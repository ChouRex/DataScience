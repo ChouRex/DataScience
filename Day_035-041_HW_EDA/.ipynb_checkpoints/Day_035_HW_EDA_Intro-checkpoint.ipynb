{
 "cells": [
  {
   "cell_type": "markdown",
   "metadata": {},
   "source": [
    "## 作業:  \n",
    "\n",
    "* 挑選 Mr./Ms. Right\n",
    "* 顧客下次會買哪些東西？\n",
    "* 半導體的良率預測？\n",
    "\n",
    "Q1: 哪一個問題不適合用資料科學解決?   \n",
    "Q2: 以你的角度來分析，為什麼這樣的問題，較不適合用資料來解決?       "
   ]
  },
  {
   "cell_type": "markdown",
   "metadata": {},
   "source": [
    "## Answer : \n",
    "\n",
    "* 挑選 Mr./Ms.Right. \n",
    "    1. 沒有辦法一一列出需納入參考的變數，且資料難以收集\n",
    "    2. 即使納入幾個參考變數，也很難量化，怎麼樣的對象是一分？怎麼樣的對象是5分？"
   ]
  },
  {
   "cell_type": "code",
   "execution_count": null,
   "metadata": {},
   "outputs": [],
   "source": []
  }
 ],
 "metadata": {
  "colab": {
   "name": "Day33.YOLO 細節理解 - 網路輸出的後處理_HW.ipynb",
   "provenance": []
  },
  "kernelspec": {
   "display_name": "Python 3",
   "language": "python",
   "name": "python3"
  },
  "language_info": {
   "codemirror_mode": {
    "name": "ipython",
    "version": 3
   },
   "file_extension": ".py",
   "mimetype": "text/x-python",
   "name": "python",
   "nbconvert_exporter": "python",
   "pygments_lexer": "ipython3",
   "version": "3.8.3"
  }
 },
 "nbformat": 4,
 "nbformat_minor": 1
}
