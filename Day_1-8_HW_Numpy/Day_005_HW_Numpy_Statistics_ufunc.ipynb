{
 "cells": [
  {
   "cell_type": "markdown",
   "metadata": {},
   "source": [
    "# HW\n",
    "## #1. 請計算各科成績平均、最大值、最小值、標準差，其中數學缺一筆資料可忽略\n"
   ]
  },
  {
   "cell_type": "code",
   "execution_count": 1,
   "metadata": {},
   "outputs": [],
   "source": [
    "import numpy as np"
   ]
  },
  {
   "cell_type": "code",
   "execution_count": 2,
   "metadata": {},
   "outputs": [],
   "source": [
    "english_score = np.array([55,89,76,65,48,70])\n",
    "math_score = np.array([60,85,60,68,np.nan,60])\n",
    "chinese_score = np.array([65,90,82,72,66,77])"
   ]
  },
  {
   "cell_type": "code",
   "execution_count": 3,
   "metadata": {},
   "outputs": [
    {
     "data": {
      "text/plain": [
       "array([[False, False, False, False, False, False],\n",
       "       [False, False, False, False,  True, False],\n",
       "       [False, False, False, False, False, False]])"
      ]
     },
     "execution_count": 3,
     "metadata": {},
     "output_type": "execute_result"
    }
   ],
   "source": [
    "np.isnan([english_score, math_score, chinese_score])"
   ]
  },
  {
   "cell_type": "code",
   "execution_count": 4,
   "metadata": {},
   "outputs": [
    {
     "name": "stdout",
     "output_type": "stream",
     "text": [
      "英文平均 : 67.17 分, 數學平均 : 66.6 分, 國文平均 : 75.33 分\n",
      "英文最高分 : 89 分, 數學最高分 : 85.0 分, 國文最高分 : 90 分\n",
      "英文最低分 : 48 分, 數學最低分 : 60.0 分, 國文最低分 : 65 分\n",
      "英文標準差 : 13.43 , 數學標準差 : 9.71 , 國文標準差 : 8.83 \n"
     ]
    }
   ],
   "source": [
    "# 平均分數\n",
    "mean_eng = np.round(np.mean(english_score), decimals = 2)\n",
    "mean_math = np.round(np.nanmean(math_score), decimals = 2)\n",
    "mean_ch = np.round(np.mean(chinese_score), decimals = 2)\n",
    "\n",
    "#各科最大值\n",
    "max_eng = np.max(english_score)\n",
    "max_math = np.nanmax(math_score)\n",
    "max_ch = np.max(chinese_score)\n",
    "\n",
    "#各科最小值\n",
    "min_eng = np.min(english_score)\n",
    "min_math = np.nanmin(math_score)\n",
    "min_ch = np.min(chinese_score)\n",
    "\n",
    "#各科標準差\n",
    "std_eng = np.round(np.std(english_score), decimals = 2)\n",
    "std_math = np.round(np.nanstd(math_score), decimals = 2)\n",
    "std_ch = np.round(np.std(chinese_score), decimals = 2)\n",
    "\n",
    "print(\"英文平均 : {} 分, 數學平均 : {} 分, 國文平均 : {} 分\".format(mean_eng, mean_math, mean_ch))\n",
    "print(\"英文最高分 : {} 分, 數學最高分 : {} 分, 國文最高分 : {} 分\".format(max_eng, max_math, max_ch))\n",
    "print(\"英文最低分 : {} 分, 數學最低分 : {} 分, 國文最低分 : {} 分\".format(min_eng, min_math, min_ch))\n",
    "print(\"英文標準差 : {} , 數學標準差 : {} , 國文標準差 : {} \".format(std_eng, std_math, std_ch))\n",
    "\n",
    "\n",
    "\n"
   ]
  },
  {
   "cell_type": "markdown",
   "metadata": {},
   "source": [
    "## #2. 第五位同學補考數學後成績為55，請計算補考後數學成績平均、最大值、最小值、標準差\n"
   ]
  },
  {
   "cell_type": "code",
   "execution_count": 6,
   "metadata": {},
   "outputs": [
    {
     "data": {
      "text/plain": [
       "array([60., 85., 60., 68., 55., 60.])"
      ]
     },
     "execution_count": 6,
     "metadata": {},
     "output_type": "execute_result"
    }
   ],
   "source": [
    "# 修改成績\n",
    "np.where(np.isnan(math_score)) #尋找nan_index用\n",
    "math_score[4] = 55\n",
    "math_score"
   ]
  },
  {
   "cell_type": "code",
   "execution_count": 7,
   "metadata": {},
   "outputs": [
    {
     "name": "stdout",
     "output_type": "stream",
     "text": [
      "補考後成績 : \n",
      "\n",
      "英文平均 : 67.17 分, 數學平均 : 64.67 分, 國文平均 : 75.33 分\n",
      "英文最高分 : 89 分, 數學最高分 : 85.0 分, 國文最高分 : 90 分\n",
      "英文最低分 : 48 分, 數學最低分 : 55.0 分, 國文最低分 : 65 分\n",
      "英文標準差 : 13.43 , 數學標準差 : 9.86 , 國文標準差 : 8.83 \n"
     ]
    }
   ],
   "source": [
    "# 平均分數\n",
    "mean_eng = np.round(np.mean(english_score), decimals = 2)\n",
    "mean_math = np.round(np.mean(math_score), decimals = 2)\n",
    "mean_ch = np.round(np.mean(chinese_score), decimals = 2)\n",
    "\n",
    "#各科最大值\n",
    "max_eng = np.max(english_score)\n",
    "max_math = np.max(math_score)\n",
    "max_ch = np.max(chinese_score)\n",
    "\n",
    "#各科最小值\n",
    "min_eng = np.min(english_score)\n",
    "min_math = np.min(math_score)\n",
    "min_ch = np.min(chinese_score)\n",
    "\n",
    "#各科標準差\n",
    "std_eng = np.round(np.std(english_score), decimals = 2)\n",
    "std_math = np.round(np.std(math_score), decimals = 2)\n",
    "std_ch = np.round(np.std(chinese_score), decimals = 2)\n",
    "print(\"補考後成績 : \\n\")\n",
    "print(\"英文平均 : {} 分, 數學平均 : {} 分, 國文平均 : {} 分\".format(mean_eng, mean_math, mean_ch))\n",
    "print(\"英文最高分 : {} 分, 數學最高分 : {} 分, 國文最高分 : {} 分\".format(max_eng, max_math, max_ch))\n",
    "print(\"英文最低分 : {} 分, 數學最低分 : {} 分, 國文最低分 : {} 分\".format(min_eng, min_math, min_ch))\n",
    "print(\"英文標準差 : {} , 數學標準差 : {} , 國文標準差 : {} \".format(std_eng, std_math, std_ch))\n",
    "\n",
    "\n",
    "\n"
   ]
  },
  {
   "cell_type": "markdown",
   "metadata": {},
   "source": [
    "## #3. 用補考後資料找出與國文成績相關係數最高的學科"
   ]
  },
  {
   "cell_type": "code",
   "execution_count": 8,
   "metadata": {},
   "outputs": [],
   "source": [
    "corr1 = np.round(np.corrcoef([english_score, chinese_score]), decimals = 3)\n",
    "corr2 = np.round(np.corrcoef([math_score, chinese_score]), decimals = 3)"
   ]
  },
  {
   "cell_type": "code",
   "execution_count": 9,
   "metadata": {},
   "outputs": [
    {
     "name": "stdout",
     "output_type": "stream",
     "text": [
      "英文與國文的相關係數為 : 0.978, 數學與國文的相關係數為 : 0.741\n"
     ]
    }
   ],
   "source": [
    "print(\"英文與國文的相關係數為 : {}, 數學與國文的相關係數為 : {}\".format(corr1[0, 1], corr2[0, 1]))"
   ]
  },
  {
   "cell_type": "code",
   "execution_count": 10,
   "metadata": {},
   "outputs": [
    {
     "name": "stdout",
     "output_type": "stream",
     "text": [
      "英文的相關係數較大\n"
     ]
    }
   ],
   "source": [
    "if not (corr1[0, 1] > corr2[0, 1]):\n",
    "    print(\"數學的相關係數較大\")\n",
    "else: \n",
    "    print(\"英文的相關係數較大\")"
   ]
  },
  {
   "cell_type": "code",
   "execution_count": null,
   "metadata": {},
   "outputs": [],
   "source": []
  }
 ],
 "metadata": {
  "kernelspec": {
   "display_name": "Python 3",
   "language": "python",
   "name": "python3"
  },
  "language_info": {
   "codemirror_mode": {
    "name": "ipython",
    "version": 3
   },
   "file_extension": ".py",
   "mimetype": "text/x-python",
   "name": "python",
   "nbconvert_exporter": "python",
   "pygments_lexer": "ipython3",
   "version": "3.8.3"
  }
 },
 "nbformat": 4,
 "nbformat_minor": 4
}
