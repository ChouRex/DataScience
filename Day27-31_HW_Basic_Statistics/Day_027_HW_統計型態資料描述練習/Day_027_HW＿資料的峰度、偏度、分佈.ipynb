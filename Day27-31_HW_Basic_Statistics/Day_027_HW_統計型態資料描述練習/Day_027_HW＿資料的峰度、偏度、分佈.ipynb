{
 "cells": [
  {
   "cell_type": "code",
   "execution_count": 1,
   "metadata": {},
   "outputs": [],
   "source": [
    "import matplotlib.pyplot as plt\n",
    "import numpy as np\n",
    "import pandas as pd\n",
    "from scipy import stats\n",
    "import math\n",
    "import statistics"
   ]
  },
  {
   "cell_type": "code",
   "execution_count": 2,
   "metadata": {},
   "outputs": [],
   "source": [
    "boy_height = pd.Series([164, 176, 169, 169, 165,\n",
    "                        175, 159, 151, 144, 160,\n",
    "                        183, 165, 156, 170, 164, \n",
    "                        173, 165, 163, 177, 171])\n",
    "girl_height = pd.Series([169, 183, 170, 168, 182,\n",
    "                         170, 173, 185, 151, 156,\n",
    "                         162, 169, 162, 181, 159,\n",
    "                         154, 167, 175, 170, 160])"
   ]
  },
  {
   "cell_type": "markdown",
   "metadata": {},
   "source": [
    "## Q2 : 請問男生和女生在平均身高上誰比較高？"
   ]
  },
  {
   "cell_type": "code",
   "execution_count": 3,
   "metadata": {},
   "outputs": [
    {
     "name": "stdout",
     "output_type": "stream",
     "text": [
      "boy_mean_height =  165.95\n",
      "girl_mean_height =  168.3\n"
     ]
    }
   ],
   "source": [
    "# 男生平均身高比女生平均身高還要矮\n",
    "\n",
    "boy_mean = np.mean(boy_height)\n",
    "print(\"boy_mean_height = \", boy_mean)\n",
    "girl_mean = statistics.mean(girl_height)\n",
    "print(\"girl_mean_height = \", girl_mean)"
   ]
  },
  {
   "cell_type": "code",
   "execution_count": 4,
   "metadata": {},
   "outputs": [
    {
     "data": {
      "image/png": "[encoded data removed]",
      "text/plain": [
       "<Figure size 432x288 with 1 Axes>"
      ]
     },
     "metadata": {
      "needs_background": "light"
     },
     "output_type": "display_data"
    }
   ],
   "source": [
    "# 圖形顯示男生與女生的身高分佈\n",
    "\n",
    "plt.hist(boy_height, alpha = .4)\n",
    "plt.axvline(boy_mean, c = \"r\")\n",
    "plt.hist(girl_height, alpha = .4)\n",
    "plt.axvline(girl_mean, c = \"g\")\n",
    "plt.show()"
   ]
  },
  {
   "cell_type": "code",
   "execution_count": 5,
   "metadata": {},
   "outputs": [
    {
     "name": "stdout",
     "output_type": "stream",
     "text": [
      "男生偏度 =  -0.47132127317376954\n",
      "男生峰度 =  0.19395882957876331\n",
      "女生偏度 =  0.05985321129365068\n",
      "女生峰度 =  -0.8203607083948947\n"
     ]
    }
   ],
   "source": [
    "# 計算峰度與偏度\n",
    "\n",
    "print(\"男生偏度 = \", stats.skew(boy_height)) #左偏\n",
    "print(\"男生峰度 = \", stats.kurtosis(boy_height))\n",
    "print(\"女生偏度 = \", stats.skew(girl_height)) #右偏\n",
    "print(\"女生峰度 = \", stats.kurtosis(girl_height)) "
   ]
  },
  {
   "cell_type": "code",
   "execution_count": 6,
   "metadata": {},
   "outputs": [
    {
     "data": {
      "text/plain": [
       "39"
      ]
     },
     "execution_count": 6,
     "metadata": {},
     "output_type": "execute_result"
    }
   ],
   "source": [
    "# 計算男生全距\n",
    "np.max(boy_height) - np.min(boy_height)"
   ]
  },
  {
   "cell_type": "code",
   "execution_count": 7,
   "metadata": {},
   "outputs": [
    {
     "data": {
      "text/plain": [
       "34"
      ]
     },
     "execution_count": 7,
     "metadata": {},
     "output_type": "execute_result"
    }
   ],
   "source": [
    "# 計算女生全距\n",
    "np.max(girl_height) - np.min(girl_height)"
   ]
  },
  {
   "cell_type": "markdown",
   "metadata": {},
   "source": [
    "##  Q1 資料描述\n",
    "\n",
    "1. 男生樣本的平均身高較女生樣本的平均身高低\n",
    "2. 從圖形、偏度可以看出，男生身高的分佈較往左邊集中，女生身高的分佈較往右邊集中\n",
    "3. 從峰度可以看出，男生身高極端值差異大，女生身高分佈極端至差異較小"
   ]
  },
  {
   "cell_type": "markdown",
   "metadata": {},
   "source": [
    "## Q3結果分析\n",
    "結果與生活觀察不同。生活中男性平均身高較女性身高多至少10公分有。\n",
    "而造成結果與觀察不符的原因有幾個: \n",
    "1. 樣本數過低，採樣的基數只有40人，沒辦法代表全體。\n",
    "2. 採樣的對象可能是特定區域，或是特定年齡，不能代表生活中觀察到的現象。"
   ]
  }
 ],
 "metadata": {
  "kernelspec": {
   "display_name": "Python 3",
   "language": "python",
   "name": "python3"
  },
  "language_info": {
   "codemirror_mode": {
    "name": "ipython",
    "version": 3
   },
   "file_extension": ".py",
   "mimetype": "text/x-python",
   "name": "python",
   "nbconvert_exporter": "python",
   "pygments_lexer": "ipython3",
   "version": "3.8.3"
  }
 },
 "nbformat": 4,
 "nbformat_minor": 4
}
