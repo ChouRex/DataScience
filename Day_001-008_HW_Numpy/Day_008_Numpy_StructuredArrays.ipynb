{
 "cells": [
  {
   "cell_type": "code",
   "execution_count": 1,
   "metadata": {},
   "outputs": [],
   "source": [
    "import numpy as np"
   ]
  },
  {
   "cell_type": "code",
   "execution_count": 2,
   "metadata": {},
   "outputs": [],
   "source": [
    "name_list = ['小明','小華','小菁','小美','小張','John','Mark','Tom']\n",
    "sex_list = ['boy','boy','girl','girl','boy','boy','boy','boy']\n",
    "weight_list = [67.5,75.3,50.1,45.5,80.8,90.4,78.4,70.7]\n",
    "rank_list = [8,1,5,4,7,6,2,3]\n",
    "myopia_list = [True,True,False,False,True,True,False,False]"
   ]
  },
  {
   "cell_type": "markdown",
   "metadata": {},
   "source": [
    "## #1. 將上列list依照['name', 'sex', 'weight', 'rank', 'myopia']順序擺入array，並且資料型態順序擺入[Unicode,Unicode,float,int,boolean]\n"
   ]
  },
  {
   "cell_type": "code",
   "execution_count": 5,
   "metadata": {},
   "outputs": [],
   "source": [
    "dt = np.dtype({'names' : ('name', 'sex', 'weight', 'rank', 'myopia'), 'formats' : ((np.str_, 5), (np.str_, 5), np.float, int, bool)})"
   ]
  },
  {
   "cell_type": "code",
   "execution_count": 12,
   "metadata": {},
   "outputs": [
    {
     "data": {
      "text/plain": [
       "array([('', '', 0., 0, False), ('', '', 0., 0, False),\n",
       "       ('', '', 0., 0, False), ('', '', 0., 0, False),\n",
       "       ('', '', 0., 0, False), ('', '', 0., 0, False),\n",
       "       ('', '', 0., 0, False), ('', '', 0., 0, False)],\n",
       "      dtype=[('name', '<U5'), ('sex', '<U5'), ('weight', '<f8'), ('rank', '<i8'), ('myopia', '?')])"
      ]
     },
     "execution_count": 12,
     "metadata": {},
     "output_type": "execute_result"
    }
   ],
   "source": [
    "array1 = np.zeros(8, dtype = dt)\n",
    "array1"
   ]
  },
  {
   "cell_type": "code",
   "execution_count": 13,
   "metadata": {},
   "outputs": [],
   "source": [
    "array1['name'] = name_list\n",
    "array1['sex'] = sex_list\n",
    "array1['weight'] = weight_list\n",
    "array1['rank'] = rank_list\n",
    "array1['myopia'] = myopia_list"
   ]
  },
  {
   "cell_type": "code",
   "execution_count": 14,
   "metadata": {},
   "outputs": [
    {
     "data": {
      "text/plain": [
       "array([('小明', 'boy', 67.5, 8,  True), ('小華', 'boy', 75.3, 1,  True),\n",
       "       ('小菁', 'girl', 50.1, 5, False), ('小美', 'girl', 45.5, 4, False),\n",
       "       ('小張', 'boy', 80.8, 7,  True), ('John', 'boy', 90.4, 6,  True),\n",
       "       ('Mark', 'boy', 78.4, 2, False), ('Tom', 'boy', 70.7, 3, False)],\n",
       "      dtype=[('name', '<U5'), ('sex', '<U5'), ('weight', '<f8'), ('rank', '<i8'), ('myopia', '?')])"
      ]
     },
     "execution_count": 14,
     "metadata": {},
     "output_type": "execute_result"
    }
   ],
   "source": [
    "array1"
   ]
  },
  {
   "cell_type": "markdown",
   "metadata": {},
   "source": [
    "## #2. 呈上題，將array中體重(weight)數據集取出算出全部平均體重\n"
   ]
  },
  {
   "cell_type": "code",
   "execution_count": 15,
   "metadata": {},
   "outputs": [
    {
     "name": "stdout",
     "output_type": "stream",
     "text": [
      "average weight =  69.8375\n"
     ]
    }
   ],
   "source": [
    "print(\"average weight = \", np.mean(array1['weight']))"
   ]
  },
  {
   "cell_type": "markdown",
   "metadata": {},
   "source": [
    "## #3. 呈上題，進一步算出男生(sex欄位是boy)平均體重\n"
   ]
  },
  {
   "cell_type": "code",
   "execution_count": 16,
   "metadata": {},
   "outputs": [
    {
     "name": "stdout",
     "output_type": "stream",
     "text": [
      "Boys' average weight =  77.18333333333332\n"
     ]
    }
   ],
   "source": [
    "print(\"Boys' average weight = \", np.mean(array1[array1['sex'] == 'boy']['weight']))"
   ]
  },
  {
   "cell_type": "markdown",
   "metadata": {},
   "source": [
    "## #3. 呈上題，進一步算出女生(sex欄位是girl)平均體重\n"
   ]
  },
  {
   "cell_type": "code",
   "execution_count": 17,
   "metadata": {},
   "outputs": [
    {
     "name": "stdout",
     "output_type": "stream",
     "text": [
      "Girls' average weight =  47.8\n"
     ]
    }
   ],
   "source": [
    "print(\"Girls' average weight = \", np.mean(array1[array1['sex'] == 'girl']['weight']))"
   ]
  },
  {
   "cell_type": "code",
   "execution_count": null,
   "metadata": {},
   "outputs": [],
   "source": []
  }
 ],
 "metadata": {
  "kernelspec": {
   "display_name": "Python 3",
   "language": "python",
   "name": "python3"
  },
  "language_info": {
   "codemirror_mode": {
    "name": "ipython",
    "version": 3
   },
   "file_extension": ".py",
   "mimetype": "text/x-python",
   "name": "python",
   "nbconvert_exporter": "python",
   "pygments_lexer": "ipython3",
   "version": "3.8.3"
  }
 },
 "nbformat": 4,
 "nbformat_minor": 4
}
