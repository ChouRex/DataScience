{
 "cells": [
  {
   "cell_type": "markdown",
   "metadata": {},
   "source": [
    "# HW"
   ]
  },
  {
   "cell_type": "markdown",
   "metadata": {},
   "source": [
    "## #1. 在速度較慢的時候，可以先從哪邊開始檢查？\n",
    "\n",
    "1. 檢查要讀取的檔案格式是否是pkl或是hdf檔案\n",
    "2. 檢查有沒有自定義的函式可以用內建函式替代\n",
    "3. 盡量選用向量化的資料處理(pd.isin())"
   ]
  },
  {
   "cell_type": "markdown",
   "metadata": {},
   "source": [
    "## #2. 資料過大時應採取什麼方式讓記憶體占用量下降？\n",
    "\n",
    "* 可以將資料進行downcast的動作"
   ]
  }
 ],
 "metadata": {
  "kernelspec": {
   "display_name": "Python 3",
   "language": "python",
   "name": "python3"
  },
  "language_info": {
   "codemirror_mode": {
    "name": "ipython",
    "version": 3
   },
   "file_extension": ".py",
   "mimetype": "text/x-python",
   "name": "python",
   "nbconvert_exporter": "python",
   "pygments_lexer": "ipython3",
   "version": "3.8.3"
  }
 },
 "nbformat": 4,
 "nbformat_minor": 4
}
