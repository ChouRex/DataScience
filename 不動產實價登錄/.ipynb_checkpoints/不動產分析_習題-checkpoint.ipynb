{
 "cells": [
  {
   "cell_type": "markdown",
   "metadata": {
    "id": "ecrVHDiuAto7"
   },
   "source": [
    "哈摟，各位資料科學家大家好，我是來自於台北市\"頭期款不足\"的阿宏，我想買房子很久了，但是不知道要買哪個地方，想先從內政部不動產交易時價登入資料中先了解行情，我現在手邊蒐集了台北市Taipei(A_lvr_land_A.csv)、新北市New_Taipei(F_lvr_land_A.csv)、台中市Taichung(B_lvr_land_A.csv)、高雄市Kaohsiung(E_lvr_land_A.csv)共四份資料，請各位資料科學家幫幫忙分析了。"
   ]
  },
  {
   "cell_type": "markdown",
   "metadata": {
    "id": "9_PILIgwAtpW"
   },
   "source": [
    "# 1.不動產資料檔案讀取並串接"
   ]
  },
  {
   "cell_type": "markdown",
   "metadata": {
    "id": "54hz4CgWAtpX"
   },
   "source": [
    "資料分散在4個資料，先合併成一個資料方便後續分析，但是我發現有英文欄位跟中文欄位，留下中文刪除英文，並加入新的欄位用以分辨台北市Taipei、新北市New_Taipei、台中市Taichung、高雄市Kaohsiung"
   ]
  },
  {
   "cell_type": "markdown",
   "metadata": {
    "id": "UAgGy_owAtpY"
   },
   "source": [
    "1. 利用Pandas中的pd.read_csv()分別讀取A_lvr_land_A.csv、B_lvr_land_A.csv、E_lvr_land_A.csv、F_lvr_land_A.csv\n",
    "2. 刪除csv中第二列英文翻譯，The villages and towns urban district,transaction sign,land sector position building sector house number plate,land shifting total area square meter,....\n",
    "3. 生成city欄位其中以地區分類台北市Taipei(A_lvr_land_A.csv)、新北市New_Taipei(F_lvr_land_A.csv)、台中市Taichung(B_lvr_land_A.csv)、高雄市Kaohsiung(E_lvr_land_A.csv)\n",
    "4. 將以上四份資料運用pd.concat()串接"
   ]
  },
  {
   "cell_type": "code",
   "execution_count": 43,
   "metadata": {
    "id": "AtdUcGYAAtpY"
   },
   "outputs": [],
   "source": [
    "import pandas as pd \n",
    "import numpy as np\n",
    "import matplotlib.pyplot as plt\n",
    "import seaborn as sns"
   ]
  },
  {
   "cell_type": "code",
   "execution_count": 2,
   "metadata": {
    "id": "qaBwVWbkAtpZ"
   },
   "outputs": [
    {
     "name": "stderr",
     "output_type": "stream",
     "text": [
      "/opt/anaconda3/lib/python3.8/site-packages/IPython/core/interactiveshell.py:3071: DtypeWarning: Columns (3,7,14,15,16,17,18,21,22,24,25) have mixed types.Specify dtype option on import or set low_memory=False.\n",
      "  has_raised = await self.run_ast_nodes(code_ast.body, cell_name,\n"
     ]
    }
   ],
   "source": [
    "#1.利用Pandas中的pd.read_csv()分別讀取A_lvr_land_A.csv、B_lvr_land_A.csv、E_lvr_land_A.csv、F_lvr_land_A.csv\n",
    "df_Taichung = pd.read_csv(\"B_lvr_land_A.csv\")\n",
    "df_Taipei = pd.read_csv(\"A_lvr_land_A.csv\")\n",
    "df_Kaohsiung = pd.read_csv(\"E_lvr_land_A.csv\")\n",
    "df_NewTaipei = pd.read_csv(\"F_lvr_land_A.csv\")"
   ]
  },
  {
   "cell_type": "code",
   "execution_count": 3,
   "metadata": {
    "id": "ulv52OOeAtpZ"
   },
   "outputs": [],
   "source": [
    "#2.刪除csv中第二列英文翻譯 #刪除row, axis = 0\n",
    "# https://www.shanelynn.ie/pandas-drop-delete-dataframe-rows-columns/\n",
    "df_NewTaipei = df_NewTaipei.drop(labels = 0, axis = 0)\n",
    "df_Kaohsiung = df_Kaohsiung.drop(labels = 0, axis = 0)\n",
    "df_Taipei = df_Taipei.drop(labels = 0, axis = 0)\n",
    "df_Taichung = df_Taichung.drop(labels = 0, axis = 0)"
   ]
  },
  {
   "cell_type": "code",
   "execution_count": 4,
   "metadata": {
    "id": "p7cqARS8Atpa"
   },
   "outputs": [],
   "source": [
    "#3. 生成city欄位其中以地區分類台北市Taipei 新北市New_Taipei 台中市Taichung 、高雄市Kaohsiung \n",
    "NewTaipei = []\n",
    "Taipei = []\n",
    "Taichung = []\n",
    "Kaohsiung = []\n",
    "for i in range(len(df_NewTaipei)):\n",
    "    NewTaipei.append(\"新北市\")\n",
    "for i in range(len(df_Kaohsiung)):\n",
    "    Kaohsiung.append(\"高雄市\")\n",
    "for i in range(len(df_Taipei)):\n",
    "    Taipei.append(\"台北市\")\n",
    "for i in range(len(df_Taichung)):\n",
    "    Taichung.append(\"台中市\")\n",
    "#   https://www.geeksforgeeks.org/insert-a-given-column-at-a-specific-position-in-a-pandas-dataframe/\n",
    "df_NewTaipei.insert(loc = 0, column = 'city', value = NewTaipei)\n",
    "df_Kaohsiung.insert(loc = 0, column = 'city', value = Kaohsiung)\n",
    "df_Taipei.insert(loc = 0, column = 'city', value = Taipei)\n",
    "df_Taichung.insert(loc = 0, column = 'city', value = Taichung)"
   ]
  },
  {
   "cell_type": "code",
   "execution_count": 5,
   "metadata": {},
   "outputs": [],
   "source": [
    "df = pd.concat((df_NewTaipei, df_Kaohsiung, df_Taichung, df_Taipei), axis = 0)"
   ]
  },
  {
   "cell_type": "code",
   "execution_count": 6,
   "metadata": {},
   "outputs": [],
   "source": [
    "# 產生以字母順序為主的內容\n",
    "# df.sort_values(by = ['鄉鎮市區'], inplace = True, ascending = True)"
   ]
  },
  {
   "cell_type": "code",
   "execution_count": 7,
   "metadata": {
    "id": "5Sajh33BAtpb"
   },
   "outputs": [],
   "source": [
    "#4. 將以上四份資料運用pd.concat()串接\n",
    "df = pd.concat((df_Taipei, df_NewTaipei, df_Taichung, df_Kaohsiung), axis = 0)"
   ]
  },
  {
   "cell_type": "markdown",
   "metadata": {
    "id": "vf6GM8Z_Atpb"
   },
   "source": [
    "# 2. 資料清理與切片"
   ]
  },
  {
   "cell_type": "markdown",
   "metadata": {
    "id": "QMPrmISNAtpb"
   },
   "source": [
    "因為我是想買來住的房子，所以幫忙刪除住宿用途以外的資料，並且限制\n",
    "1. 交易年月日，限制在109年\n",
    "2. 建物現況格局-房，1~5間 \n",
    "3. 建物現況格局-廳，1~2廳"
   ]
  },
  {
   "cell_type": "markdown",
   "metadata": {
    "id": "1C-ImCfTAtpc"
   },
   "source": [
    "以下columns_mapping、analysis_columns、columns_type提供給資料科學家配合使用\n",
    "1. 利用.rename()並配合以下columns_mapping，將原中文欄位名稱改為英文方便之後分析\n",
    "2. 取出主要用途(main_use)為'住家用'以及都市土地使用分區(use_zoning)為'住'的資料並針對以下欄位analysis_columns做分析並去除na值\n",
    "   (提示:先取完之後再.dropna())\n",
    "3. 觀察欄位資料型態，並利用.astype()搭配以下提供的columns_type做欄位型態轉換\n",
    "4. 做資料切片將<br>\n",
    "    新增欄位交易年月日(tx_dt_year)，從交易年月日(tx_dt)萃取出年份<br>\n",
    "    1.交易年月日(tx_dt_year)，限制在109年<br>\n",
    "    2.建物現況格局-房(room_number)，限制在1到5間<br>\n",
    "    3.建物現況格局-廳(hall_number)，限制在1到2廳<br>\n",
    "    4.最後運用.reset_index()重新定義索引"
   ]
  },
  {
   "cell_type": "code",
   "execution_count": 8,
   "metadata": {
    "id": "rBSElFmKAtpc"
   },
   "outputs": [],
   "source": [
    "columns_mapping = {'鄉鎮市區':'towns',\n",
    "'交易標的':'transaction_sign',\n",
    "'土地區段位置建物區段門牌':'house_number',\n",
    "'土地移轉總面積平方公尺':'land_area_square_meter', \n",
    "'都市土地使用分區':'use_zoning', \n",
    "'非都市土地使用分區':'land_use_district',\n",
    "'非都市土地使用編定':'land_use',\n",
    "'交易年月日':'tx_dt', \n",
    " '交易筆棟數':'transaction_pen_number', \n",
    " '移轉層次':'shifting_level', \n",
    " '總樓層數':'total_floor_number', \n",
    " '建物型態':'building_state', \n",
    " '主要用途':'main_use', \n",
    " '主要建材':'main_materials',\n",
    " '建築完成年月':'complete_date', \n",
    " '建物移轉總面積平方公尺':'building_area_square_meter', \n",
    " '建物現況格局-房':'room_number', \n",
    " '建物現況格局-廳':'hall_number', \n",
    " '建物現況格局-衛':'health_number', \n",
    "'建物現況格局-隔間':'compartmented_number', \n",
    " '有無管理組織':'manages', \n",
    " '總價元':'total_price', \n",
    " '單價元平方公尺':'unit_price', \n",
    " '車位類別':'berth_category', \n",
    " '車位移轉總面積(平方公尺)':'berth_area_square_meter',\n",
    "'車位總價元':'berth_price', \n",
    " '備註':'note', \n",
    " '編號':'serial_number', \n",
    " '主建物面積':'main_building_area', \n",
    " '附屬建物面積':'auxiliary_building_area', \n",
    " '陽台面積':'balcony_area', \n",
    " '電梯':'elevator'\n",
    "                  }\n",
    "analysis_columns = ['city','towns','main_use','use_zoning','total_price','building_area_square_meter',\n",
    "                                     'main_building_area',\n",
    "                                     'tx_dt','unit_price','room_number','hall_number','health_number']\n",
    "columns_type = {'total_price': 'int','unit_price':'float','building_area_square_meter':'float',\n",
    "                                      'main_building_area': 'float',\n",
    "                                      'room_number': 'int','hall_number': 'int','health_number': 'int'}"
   ]
  },
  {
   "cell_type": "code",
   "execution_count": 9,
   "metadata": {
    "id": "JFrw25keAtpe",
    "scrolled": true
   },
   "outputs": [],
   "source": [
    "#1. 利用.rename()並配合以下columns_mapping，將原中文欄位名稱改為英文方便之後分析\n",
    "# https://pandas.pydata.org/pandas-docs/stable/reference/api/pandas.DataFrame.rename.html\n",
    "df = df.rename(columns = columns_mapping)"
   ]
  },
  {
   "cell_type": "code",
   "execution_count": 10,
   "metadata": {
    "id": "GMPSUJFcAtpf"
   },
   "outputs": [
    {
     "name": "stdout",
     "output_type": "stream",
     "text": [
      "<class 'pandas.core.frame.DataFrame'>\n",
      "Int64Index: 7802 entries, 1 to 12492\n",
      "Data columns (total 33 columns):\n",
      " #   Column                      Non-Null Count  Dtype  \n",
      "---  ------                      --------------  -----  \n",
      " 0   city                        7802 non-null   object \n",
      " 1   towns                       7802 non-null   object \n",
      " 2   transaction_sign            7802 non-null   object \n",
      " 3   house_number                7802 non-null   object \n",
      " 4   land_area_square_meter      7802 non-null   object \n",
      " 5   use_zoning                  7802 non-null   object \n",
      " 6   land_use_district           1 non-null      object \n",
      " 7   land_use                    0 non-null      object \n",
      " 8   tx_dt                       7802 non-null   object \n",
      " 9   transaction_pen_number      7802 non-null   object \n",
      " 10  shifting_level              7802 non-null   object \n",
      " 11  total_floor_number          7796 non-null   object \n",
      " 12  building_state              7802 non-null   object \n",
      " 13  main_use                    7802 non-null   object \n",
      " 14  main_materials              7801 non-null   object \n",
      " 15  complete_date               7578 non-null   object \n",
      " 16  building_area_square_meter  7802 non-null   object \n",
      " 17  room_number                 7802 non-null   object \n",
      " 18  hall_number                 7802 non-null   object \n",
      " 19  health_number               7802 non-null   object \n",
      " 20  compartmented_number        7802 non-null   object \n",
      " 21  manages                     7802 non-null   object \n",
      " 22  total_price                 7802 non-null   object \n",
      " 23  unit_price                  7802 non-null   object \n",
      " 24  berth_category              2622 non-null   object \n",
      " 25  berth_area_square_meter     7802 non-null   object \n",
      " 26  berth_price                 7802 non-null   object \n",
      " 27  note                        3464 non-null   object \n",
      " 28  serial_number               7802 non-null   object \n",
      " 29  main_building_area          7802 non-null   float64\n",
      " 30  auxiliary_building_area     7802 non-null   float64\n",
      " 31  balcony_area                7802 non-null   float64\n",
      " 32  elevator                    99 non-null     object \n",
      "dtypes: float64(3), object(30)\n",
      "memory usage: 2.0+ MB\n"
     ]
    }
   ],
   "source": [
    "#2. 取出主要用途(main_use)為'住家用'以及都市土地使用分區(use_zoning)為'住'的資料並針對以下欄位analysis_columns做分析並去除na值\n",
    "\n",
    "# 做邏輯運算需加入括號才不會報錯\n",
    "df = df[(df[\"main_use\"] == \"住家用\") & (df[\"use_zoning\"] == \"住\")]\n",
    "# isna() 每個資料欄位都會出現是否為na, any()則是叫出哪個部分有na\n",
    "df[analysis_columns].isna().any() # 可以看到 unit_price有缺失值\n",
    "\n",
    "# 處理缺失值\n",
    "df = df.dropna(how = 'any', axis = 0, subset = analysis_columns)\n",
    "\n",
    "# how : any -> 有任一欄位有缺失值就刪除、 all -> 全部欄位都是缺失值才刪除。subset是篩選的欄位。 axis = 0 刪除row, axis = 1 刪除column \n",
    "df.info()\n"
   ]
  },
  {
   "cell_type": "code",
   "execution_count": 11,
   "metadata": {
    "id": "Y5_BWtUpAtph"
   },
   "outputs": [],
   "source": [
    "#3. 將一些本應為數值型態，卻為object的資料，透過設定好的dict，將資料型態透過astype作轉換\n",
    "df = df.astype(columns_type)"
   ]
  },
  {
   "cell_type": "code",
   "execution_count": 12,
   "metadata": {},
   "outputs": [
    {
     "name": "stdout",
     "output_type": "stream",
     "text": [
      "<class 'pandas.core.frame.DataFrame'>\n",
      "Int64Index: 7802 entries, 1 to 12492\n",
      "Data columns (total 33 columns):\n",
      " #   Column                      Non-Null Count  Dtype  \n",
      "---  ------                      --------------  -----  \n",
      " 0   city                        7802 non-null   object \n",
      " 1   towns                       7802 non-null   object \n",
      " 2   transaction_sign            7802 non-null   object \n",
      " 3   house_number                7802 non-null   object \n",
      " 4   land_area_square_meter      7802 non-null   object \n",
      " 5   use_zoning                  7802 non-null   object \n",
      " 6   land_use_district           1 non-null      object \n",
      " 7   land_use                    0 non-null      object \n",
      " 8   tx_dt                       7802 non-null   object \n",
      " 9   transaction_pen_number      7802 non-null   object \n",
      " 10  shifting_level              7802 non-null   object \n",
      " 11  total_floor_number          7796 non-null   object \n",
      " 12  building_state              7802 non-null   object \n",
      " 13  main_use                    7802 non-null   object \n",
      " 14  main_materials              7801 non-null   object \n",
      " 15  complete_date               7578 non-null   object \n",
      " 16  building_area_square_meter  7802 non-null   float64\n",
      " 17  room_number                 7802 non-null   int64  \n",
      " 18  hall_number                 7802 non-null   int64  \n",
      " 19  health_number               7802 non-null   int64  \n",
      " 20  compartmented_number        7802 non-null   object \n",
      " 21  manages                     7802 non-null   object \n",
      " 22  total_price                 7802 non-null   int64  \n",
      " 23  unit_price                  7802 non-null   float64\n",
      " 24  berth_category              2622 non-null   object \n",
      " 25  berth_area_square_meter     7802 non-null   object \n",
      " 26  berth_price                 7802 non-null   object \n",
      " 27  note                        3464 non-null   object \n",
      " 28  serial_number               7802 non-null   object \n",
      " 29  main_building_area          7802 non-null   float64\n",
      " 30  auxiliary_building_area     7802 non-null   float64\n",
      " 31  balcony_area                7802 non-null   float64\n",
      " 32  elevator                    99 non-null     object \n",
      "dtypes: float64(5), int64(4), object(24)\n",
      "memory usage: 2.0+ MB\n"
     ]
    }
   ],
   "source": [
    "# 處理過後的資料\n",
    "df.info()"
   ]
  },
  {
   "cell_type": "code",
   "execution_count": 13,
   "metadata": {
    "id": "AxF8yHDeAtph",
    "scrolled": true
   },
   "outputs": [],
   "source": [
    "# 將交易日期切割成年月日、並且把舊的column換掉\n",
    "year = df[\"tx_dt\"].apply(lambda x : x[0:3])\n",
    "month = df[\"tx_dt\"].apply(lambda x : x[3:5])\n",
    "day = df[\"tx_dt\"].apply(lambda x : x[5:7])\n",
    "\n",
    "df.insert(loc = 8, column = 'tx_dt_year', value = year)\n",
    "df.insert(loc = 9, column = 'tx_dt_month', value = month)\n",
    "df.insert(loc = 10, column = 'tx_dt_day', value = day)\n",
    "\n",
    "del df[\"tx_dt\"]"
   ]
  },
  {
   "cell_type": "code",
   "execution_count": 14,
   "metadata": {},
   "outputs": [],
   "source": [
    "# tx_dt_year 限制在109年 & 1 <= room_number <= 5 & 1 <= hall_number <= 2\n",
    "# 備註：邏輯運算無法直接輸入一個區間？\n",
    "df = df[(df[\"room_number\"] <= 5) & (df[\"room_number\"] >= 1) & (df[\"tx_dt_year\"] == \"109\") & (df[\"hall_number\"] <= 2) & (df[\"hall_number\"] >= 1)]\n",
    "# 重新排列索引值 https://ithelp.ithome.com.tw/articles/10194006\n",
    "df.reset_index(inplace = True)"
   ]
  },
  {
   "cell_type": "code",
   "execution_count": 15,
   "metadata": {},
   "outputs": [
    {
     "data": {
      "text/plain": [
       "RangeIndex(start=0, stop=6894, step=1)"
      ]
     },
     "execution_count": 15,
     "metadata": {},
     "output_type": "execute_result"
    }
   ],
   "source": [
    "# 確認dataframe index是否成功修改\n",
    "df.index"
   ]
  },
  {
   "cell_type": "markdown",
   "metadata": {
    "id": "zTOTmNDxAtpi"
   },
   "source": [
    "# 3. 建立自定義特徵加入分析\n"
   ]
  },
  {
   "cell_type": "markdown",
   "metadata": {
    "id": "cyL2au1aAtpi"
   },
   "source": [
    "以台灣來說大家都是以坪為單位計算使用面積，應該是不會問說你家有幾平方公尺吧?，但是偏偏資料中沒有以坪為單位計算，所以接下來請各位幫忙產生新的欄位以坪為單位計算面積，轉換公式我也幫你找好了，在下面的定義。<br>\n",
    "定義 : 1平方公尺相當於0.3025坪 <br>\n",
    "建立新特徵\n",
    "1. 建物移轉總面積坪(building_area_square_feet) : 建物移轉總面積平方公尺\\*0.3025\n",
    "2. 主建物面積坪(main_building_area_square_feet) : 主建物面積\\*0.3025\n",
    "3. 單價元坪(unit_price_square_feet) : 單價元平方公尺/0.3025"
   ]
  },
  {
   "cell_type": "markdown",
   "metadata": {
    "id": "O-BL5boZAtpi"
   },
   "source": [
    "可以利用.describe()做一下資料觀察，是否有奇怪的資料?<br>\n",
    "如果有請將資料移除，並說明為什麼移除此資料?<br>\n",
    "移除後再用.describe()觀察是否還有奇怪的資料?"
   ]
  },
  {
   "cell_type": "code",
   "execution_count": 16,
   "metadata": {
    "id": "vWILawwvAtpj"
   },
   "outputs": [],
   "source": [
    "# 建立新特徵 -> 將牽涉到平方公尺的資料轉換為坪的資料(備註：1坪 = 1面積平方公尺 * 0.3025)\n",
    "# 1. building_area_square_feet : building_area * 0.3025 \n",
    "# 2. main_building_area_square_feet : main_building_area *0.3025\n",
    "# 3. unit_price_square_feet : unit_price /0.3025\n",
    "df[\"building_area_square_feet\"] = df[\"building_area_square_meter\"] * 0.3025\n",
    "df[\"main_building_area_square_feet\"] = df[\"main_building_area\"] * 0.3025\n",
    "df[\"unit_price_square_feet\"] = df[\"unit_price\"] / 0.3025"
   ]
  },
  {
   "cell_type": "code",
   "execution_count": 95,
   "metadata": {
    "id": "ZuAZPbnNAtpj",
    "scrolled": true
   },
   "outputs": [],
   "source": [
    "# 處理異常值，並解說為何刪除\n",
    "# 1. unit_price = 0 \n",
    "df = df.drop(np.where(df[\"unit_price\"] == 0)[0])"
   ]
  },
  {
   "cell_type": "code",
   "execution_count": 96,
   "metadata": {},
   "outputs": [],
   "source": [
    "df = df[df[\"main_building_area\"] != 0]"
   ]
  },
  {
   "cell_type": "code",
   "execution_count": 97,
   "metadata": {},
   "outputs": [
    {
     "data": {
      "text/html": [
       "<div>\n",
       "<style scoped>\n",
       "    .dataframe tbody tr th:only-of-type {\n",
       "        vertical-align: middle;\n",
       "    }\n",
       "\n",
       "    .dataframe tbody tr th {\n",
       "        vertical-align: top;\n",
       "    }\n",
       "\n",
       "    .dataframe thead th {\n",
       "        text-align: right;\n",
       "    }\n",
       "</style>\n",
       "<table border=\"1\" class=\"dataframe\">\n",
       "  <thead>\n",
       "    <tr style=\"text-align: right;\">\n",
       "      <th></th>\n",
       "      <th>index</th>\n",
       "      <th>building_area_square_meter</th>\n",
       "      <th>room_number</th>\n",
       "      <th>hall_number</th>\n",
       "      <th>health_number</th>\n",
       "      <th>total_price</th>\n",
       "      <th>unit_price</th>\n",
       "      <th>main_building_area</th>\n",
       "      <th>auxiliary_building_area</th>\n",
       "      <th>balcony_area</th>\n",
       "      <th>building_area_square_feet</th>\n",
       "      <th>main_building_area_square_feet</th>\n",
       "      <th>unit_price_square_feet</th>\n",
       "      <th>towns_label</th>\n",
       "    </tr>\n",
       "  </thead>\n",
       "  <tbody>\n",
       "    <tr>\n",
       "      <th>count</th>\n",
       "      <td>6779.000000</td>\n",
       "      <td>6779.000000</td>\n",
       "      <td>6779.000000</td>\n",
       "      <td>6779.000000</td>\n",
       "      <td>6779.000000</td>\n",
       "      <td>6.779000e+03</td>\n",
       "      <td>6779.000000</td>\n",
       "      <td>6779.000000</td>\n",
       "      <td>6779.000000</td>\n",
       "      <td>6779.000000</td>\n",
       "      <td>6779.000000</td>\n",
       "      <td>6779.000000</td>\n",
       "      <td>6.779000e+03</td>\n",
       "      <td>6779.000000</td>\n",
       "    </tr>\n",
       "    <tr>\n",
       "      <th>mean</th>\n",
       "      <td>3384.048237</td>\n",
       "      <td>121.691134</td>\n",
       "      <td>2.846585</td>\n",
       "      <td>1.792447</td>\n",
       "      <td>1.729606</td>\n",
       "      <td>1.145647e+07</td>\n",
       "      <td>94938.402567</td>\n",
       "      <td>82.455862</td>\n",
       "      <td>4.899659</td>\n",
       "      <td>5.118786</td>\n",
       "      <td>36.811568</td>\n",
       "      <td>24.942898</td>\n",
       "      <td>3.138460e+05</td>\n",
       "      <td>38.130108</td>\n",
       "    </tr>\n",
       "    <tr>\n",
       "      <th>std</th>\n",
       "      <td>2219.418844</td>\n",
       "      <td>62.900743</td>\n",
       "      <td>0.898217</td>\n",
       "      <td>0.405585</td>\n",
       "      <td>0.679047</td>\n",
       "      <td>1.166032e+07</td>\n",
       "      <td>58491.082003</td>\n",
       "      <td>36.807078</td>\n",
       "      <td>7.785089</td>\n",
       "      <td>6.055969</td>\n",
       "      <td>19.027475</td>\n",
       "      <td>11.134141</td>\n",
       "      <td>1.933589e+05</td>\n",
       "      <td>25.185881</td>\n",
       "    </tr>\n",
       "    <tr>\n",
       "      <th>min</th>\n",
       "      <td>1.000000</td>\n",
       "      <td>7.440000</td>\n",
       "      <td>1.000000</td>\n",
       "      <td>1.000000</td>\n",
       "      <td>0.000000</td>\n",
       "      <td>4.700000e+05</td>\n",
       "      <td>3239.000000</td>\n",
       "      <td>7.440000</td>\n",
       "      <td>0.000000</td>\n",
       "      <td>0.000000</td>\n",
       "      <td>2.250600</td>\n",
       "      <td>2.250600</td>\n",
       "      <td>1.070744e+04</td>\n",
       "      <td>0.000000</td>\n",
       "    </tr>\n",
       "    <tr>\n",
       "      <th>25%</th>\n",
       "      <td>1561.000000</td>\n",
       "      <td>82.940000</td>\n",
       "      <td>2.000000</td>\n",
       "      <td>2.000000</td>\n",
       "      <td>1.000000</td>\n",
       "      <td>5.600000e+06</td>\n",
       "      <td>53835.000000</td>\n",
       "      <td>60.925000</td>\n",
       "      <td>0.000000</td>\n",
       "      <td>0.000000</td>\n",
       "      <td>25.089350</td>\n",
       "      <td>18.429812</td>\n",
       "      <td>1.779669e+05</td>\n",
       "      <td>16.000000</td>\n",
       "    </tr>\n",
       "    <tr>\n",
       "      <th>50%</th>\n",
       "      <td>3065.000000</td>\n",
       "      <td>109.300000</td>\n",
       "      <td>3.000000</td>\n",
       "      <td>2.000000</td>\n",
       "      <td>2.000000</td>\n",
       "      <td>8.600000e+06</td>\n",
       "      <td>80052.000000</td>\n",
       "      <td>79.000000</td>\n",
       "      <td>1.180000</td>\n",
       "      <td>3.030000</td>\n",
       "      <td>33.063250</td>\n",
       "      <td>23.897500</td>\n",
       "      <td>2.646347e+05</td>\n",
       "      <td>39.000000</td>\n",
       "    </tr>\n",
       "    <tr>\n",
       "      <th>75%</th>\n",
       "      <td>5083.500000</td>\n",
       "      <td>147.430000</td>\n",
       "      <td>3.000000</td>\n",
       "      <td>2.000000</td>\n",
       "      <td>2.000000</td>\n",
       "      <td>1.338000e+07</td>\n",
       "      <td>119189.000000</td>\n",
       "      <td>95.935000</td>\n",
       "      <td>8.330000</td>\n",
       "      <td>9.490000</td>\n",
       "      <td>44.597575</td>\n",
       "      <td>29.020337</td>\n",
       "      <td>3.940132e+05</td>\n",
       "      <td>58.000000</td>\n",
       "    </tr>\n",
       "    <tr>\n",
       "      <th>max</th>\n",
       "      <td>12633.000000</td>\n",
       "      <td>1444.950000</td>\n",
       "      <td>5.000000</td>\n",
       "      <td>2.000000</td>\n",
       "      <td>6.000000</td>\n",
       "      <td>2.250000e+08</td>\n",
       "      <td>610104.000000</td>\n",
       "      <td>335.760000</td>\n",
       "      <td>154.100000</td>\n",
       "      <td>48.130000</td>\n",
       "      <td>437.097375</td>\n",
       "      <td>101.567400</td>\n",
       "      <td>2.016873e+06</td>\n",
       "      <td>87.000000</td>\n",
       "    </tr>\n",
       "  </tbody>\n",
       "</table>\n",
       "</div>"
      ],
      "text/plain": [
       "              index  building_area_square_meter  room_number  hall_number  \\\n",
       "count   6779.000000                 6779.000000  6779.000000  6779.000000   \n",
       "mean    3384.048237                  121.691134     2.846585     1.792447   \n",
       "std     2219.418844                   62.900743     0.898217     0.405585   \n",
       "min        1.000000                    7.440000     1.000000     1.000000   \n",
       "25%     1561.000000                   82.940000     2.000000     2.000000   \n",
       "50%     3065.000000                  109.300000     3.000000     2.000000   \n",
       "75%     5083.500000                  147.430000     3.000000     2.000000   \n",
       "max    12633.000000                 1444.950000     5.000000     2.000000   \n",
       "\n",
       "       health_number   total_price     unit_price  main_building_area  \\\n",
       "count    6779.000000  6.779000e+03    6779.000000         6779.000000   \n",
       "mean        1.729606  1.145647e+07   94938.402567           82.455862   \n",
       "std         0.679047  1.166032e+07   58491.082003           36.807078   \n",
       "min         0.000000  4.700000e+05    3239.000000            7.440000   \n",
       "25%         1.000000  5.600000e+06   53835.000000           60.925000   \n",
       "50%         2.000000  8.600000e+06   80052.000000           79.000000   \n",
       "75%         2.000000  1.338000e+07  119189.000000           95.935000   \n",
       "max         6.000000  2.250000e+08  610104.000000          335.760000   \n",
       "\n",
       "       auxiliary_building_area  balcony_area  building_area_square_feet  \\\n",
       "count              6779.000000   6779.000000                6779.000000   \n",
       "mean                  4.899659      5.118786                  36.811568   \n",
       "std                   7.785089      6.055969                  19.027475   \n",
       "min                   0.000000      0.000000                   2.250600   \n",
       "25%                   0.000000      0.000000                  25.089350   \n",
       "50%                   1.180000      3.030000                  33.063250   \n",
       "75%                   8.330000      9.490000                  44.597575   \n",
       "max                 154.100000     48.130000                 437.097375   \n",
       "\n",
       "       main_building_area_square_feet  unit_price_square_feet  towns_label  \n",
       "count                     6779.000000            6.779000e+03  6779.000000  \n",
       "mean                        24.942898            3.138460e+05    38.130108  \n",
       "std                         11.134141            1.933589e+05    25.185881  \n",
       "min                          2.250600            1.070744e+04     0.000000  \n",
       "25%                         18.429812            1.779669e+05    16.000000  \n",
       "50%                         23.897500            2.646347e+05    39.000000  \n",
       "75%                         29.020337            3.940132e+05    58.000000  \n",
       "max                        101.567400            2.016873e+06    87.000000  "
      ]
     },
     "execution_count": 97,
     "metadata": {},
     "output_type": "execute_result"
    }
   ],
   "source": [
    "df.describe()"
   ]
  },
  {
   "cell_type": "code",
   "execution_count": 98,
   "metadata": {},
   "outputs": [
    {
     "name": "stdout",
     "output_type": "stream",
     "text": [
      "11      48000000\n",
      "44      62700000\n",
      "45      49680000\n",
      "47      87500000\n",
      "76      53000000\n",
      "          ...   \n",
      "2471     8500000\n",
      "2533     4000000\n",
      "3045    11300000\n",
      "3468     4900000\n",
      "4379     3370000\n",
      "Name: total_price, Length: 101, dtype: int64\n"
     ]
    }
   ],
   "source": [
    "# 異常值判斷（標準差）\n",
    "def outlier_zscore(data, times):\n",
    "    mean = data.mean()\n",
    "    stdev = data.std()\n",
    "    z_scores = [(y - mean) / stdev for y in data]\n",
    "    return np.where(np.abs(z_scores) > times) # return index\n",
    "\n",
    "out_index = outlier_zscore(df[\"total_price\"], 3)\n",
    "print(df[\"total_price\"].loc[out_index[0]])"
   ]
  },
  {
   "cell_type": "code",
   "execution_count": 99,
   "metadata": {},
   "outputs": [
    {
     "ename": "KeyError",
     "evalue": "'Passing list-likes to .loc or [] with any missing labels is no longer supported, see https://pandas.pydata.org/pandas-docs/stable/user_guide/indexing.html#deprecate-loc-reindex-listlike'",
     "output_type": "error",
     "traceback": [
      "\u001b[0;31m---------------------------------------------------------------------------\u001b[0m",
      "\u001b[0;31mKeyError\u001b[0m                                  Traceback (most recent call last)",
      "\u001b[0;32m<ipython-input-99-2406b90d892e>\u001b[0m in \u001b[0;36m<module>\u001b[0;34m\u001b[0m\n\u001b[1;32m      6\u001b[0m     \u001b[0;32mreturn\u001b[0m \u001b[0mnp\u001b[0m\u001b[0;34m.\u001b[0m\u001b[0mwhere\u001b[0m\u001b[0;34m(\u001b[0m\u001b[0;34m(\u001b[0m\u001b[0mdata\u001b[0m \u001b[0;34m>\u001b[0m \u001b[0mupper_bound\u001b[0m\u001b[0;34m)\u001b[0m \u001b[0;34m|\u001b[0m \u001b[0;34m(\u001b[0m\u001b[0mdata\u001b[0m \u001b[0;34m<\u001b[0m \u001b[0mlower_bound\u001b[0m\u001b[0;34m)\u001b[0m\u001b[0;34m)\u001b[0m\u001b[0;34m\u001b[0m\u001b[0;34m\u001b[0m\u001b[0m\n\u001b[1;32m      7\u001b[0m \u001b[0mout_index_iqr\u001b[0m \u001b[0;34m=\u001b[0m \u001b[0miqr\u001b[0m\u001b[0;34m(\u001b[0m\u001b[0mdf\u001b[0m\u001b[0;34m[\u001b[0m\u001b[0;34m\"total_price\"\u001b[0m\u001b[0;34m]\u001b[0m\u001b[0;34m,\u001b[0m \u001b[0;36m1.5\u001b[0m\u001b[0;34m)\u001b[0m\u001b[0;34m\u001b[0m\u001b[0;34m\u001b[0m\u001b[0m\n\u001b[0;32m----> 8\u001b[0;31m \u001b[0mprint\u001b[0m\u001b[0;34m(\u001b[0m\u001b[0mdf\u001b[0m\u001b[0;34m[\u001b[0m\u001b[0;34m\"total_price\"\u001b[0m\u001b[0;34m]\u001b[0m\u001b[0;34m.\u001b[0m\u001b[0mloc\u001b[0m\u001b[0;34m[\u001b[0m\u001b[0mout_index_iqr\u001b[0m\u001b[0;34m[\u001b[0m\u001b[0;36m0\u001b[0m\u001b[0;34m]\u001b[0m\u001b[0;34m]\u001b[0m\u001b[0;34m)\u001b[0m\u001b[0;34m\u001b[0m\u001b[0;34m\u001b[0m\u001b[0m\n\u001b[0m",
      "\u001b[0;32m/opt/anaconda3/lib/python3.8/site-packages/pandas/core/indexing.py\u001b[0m in \u001b[0;36m__getitem__\u001b[0;34m(self, key)\u001b[0m\n\u001b[1;32m   1766\u001b[0m \u001b[0;34m\u001b[0m\u001b[0m\n\u001b[1;32m   1767\u001b[0m             \u001b[0mmaybe_callable\u001b[0m \u001b[0;34m=\u001b[0m \u001b[0mcom\u001b[0m\u001b[0;34m.\u001b[0m\u001b[0mapply_if_callable\u001b[0m\u001b[0;34m(\u001b[0m\u001b[0mkey\u001b[0m\u001b[0;34m,\u001b[0m \u001b[0mself\u001b[0m\u001b[0;34m.\u001b[0m\u001b[0mobj\u001b[0m\u001b[0;34m)\u001b[0m\u001b[0;34m\u001b[0m\u001b[0;34m\u001b[0m\u001b[0m\n\u001b[0;32m-> 1768\u001b[0;31m             \u001b[0;32mreturn\u001b[0m \u001b[0mself\u001b[0m\u001b[0;34m.\u001b[0m\u001b[0m_getitem_axis\u001b[0m\u001b[0;34m(\u001b[0m\u001b[0mmaybe_callable\u001b[0m\u001b[0;34m,\u001b[0m \u001b[0maxis\u001b[0m\u001b[0;34m=\u001b[0m\u001b[0maxis\u001b[0m\u001b[0;34m)\u001b[0m\u001b[0;34m\u001b[0m\u001b[0;34m\u001b[0m\u001b[0m\n\u001b[0m\u001b[1;32m   1769\u001b[0m \u001b[0;34m\u001b[0m\u001b[0m\n\u001b[1;32m   1770\u001b[0m     \u001b[0;32mdef\u001b[0m \u001b[0m_is_scalar_access\u001b[0m\u001b[0;34m(\u001b[0m\u001b[0mself\u001b[0m\u001b[0;34m,\u001b[0m \u001b[0mkey\u001b[0m\u001b[0;34m:\u001b[0m \u001b[0mTuple\u001b[0m\u001b[0;34m)\u001b[0m\u001b[0;34m:\u001b[0m\u001b[0;34m\u001b[0m\u001b[0;34m\u001b[0m\u001b[0m\n",
      "\u001b[0;32m/opt/anaconda3/lib/python3.8/site-packages/pandas/core/indexing.py\u001b[0m in \u001b[0;36m_getitem_axis\u001b[0;34m(self, key, axis)\u001b[0m\n\u001b[1;32m   1952\u001b[0m                     \u001b[0;32mraise\u001b[0m \u001b[0mValueError\u001b[0m\u001b[0;34m(\u001b[0m\u001b[0;34m\"Cannot index with multidimensional key\"\u001b[0m\u001b[0;34m)\u001b[0m\u001b[0;34m\u001b[0m\u001b[0;34m\u001b[0m\u001b[0m\n\u001b[1;32m   1953\u001b[0m \u001b[0;34m\u001b[0m\u001b[0m\n\u001b[0;32m-> 1954\u001b[0;31m                 \u001b[0;32mreturn\u001b[0m \u001b[0mself\u001b[0m\u001b[0;34m.\u001b[0m\u001b[0m_getitem_iterable\u001b[0m\u001b[0;34m(\u001b[0m\u001b[0mkey\u001b[0m\u001b[0;34m,\u001b[0m \u001b[0maxis\u001b[0m\u001b[0;34m=\u001b[0m\u001b[0maxis\u001b[0m\u001b[0;34m)\u001b[0m\u001b[0;34m\u001b[0m\u001b[0;34m\u001b[0m\u001b[0m\n\u001b[0m\u001b[1;32m   1955\u001b[0m \u001b[0;34m\u001b[0m\u001b[0m\n\u001b[1;32m   1956\u001b[0m             \u001b[0;31m# nested tuple slicing\u001b[0m\u001b[0;34m\u001b[0m\u001b[0;34m\u001b[0m\u001b[0;34m\u001b[0m\u001b[0m\n",
      "\u001b[0;32m/opt/anaconda3/lib/python3.8/site-packages/pandas/core/indexing.py\u001b[0m in \u001b[0;36m_getitem_iterable\u001b[0;34m(self, key, axis)\u001b[0m\n\u001b[1;32m   1593\u001b[0m         \u001b[0;32melse\u001b[0m\u001b[0;34m:\u001b[0m\u001b[0;34m\u001b[0m\u001b[0;34m\u001b[0m\u001b[0m\n\u001b[1;32m   1594\u001b[0m             \u001b[0;31m# A collection of keys\u001b[0m\u001b[0;34m\u001b[0m\u001b[0;34m\u001b[0m\u001b[0;34m\u001b[0m\u001b[0m\n\u001b[0;32m-> 1595\u001b[0;31m             \u001b[0mkeyarr\u001b[0m\u001b[0;34m,\u001b[0m \u001b[0mindexer\u001b[0m \u001b[0;34m=\u001b[0m \u001b[0mself\u001b[0m\u001b[0;34m.\u001b[0m\u001b[0m_get_listlike_indexer\u001b[0m\u001b[0;34m(\u001b[0m\u001b[0mkey\u001b[0m\u001b[0;34m,\u001b[0m \u001b[0maxis\u001b[0m\u001b[0;34m,\u001b[0m \u001b[0mraise_missing\u001b[0m\u001b[0;34m=\u001b[0m\u001b[0;32mFalse\u001b[0m\u001b[0;34m)\u001b[0m\u001b[0;34m\u001b[0m\u001b[0;34m\u001b[0m\u001b[0m\n\u001b[0m\u001b[1;32m   1596\u001b[0m             return self.obj._reindex_with_indexers(\n\u001b[1;32m   1597\u001b[0m                 \u001b[0;34m{\u001b[0m\u001b[0maxis\u001b[0m\u001b[0;34m:\u001b[0m \u001b[0;34m[\u001b[0m\u001b[0mkeyarr\u001b[0m\u001b[0;34m,\u001b[0m \u001b[0mindexer\u001b[0m\u001b[0;34m]\u001b[0m\u001b[0;34m}\u001b[0m\u001b[0;34m,\u001b[0m \u001b[0mcopy\u001b[0m\u001b[0;34m=\u001b[0m\u001b[0;32mTrue\u001b[0m\u001b[0;34m,\u001b[0m \u001b[0mallow_dups\u001b[0m\u001b[0;34m=\u001b[0m\u001b[0;32mTrue\u001b[0m\u001b[0;34m\u001b[0m\u001b[0;34m\u001b[0m\u001b[0m\n",
      "\u001b[0;32m/opt/anaconda3/lib/python3.8/site-packages/pandas/core/indexing.py\u001b[0m in \u001b[0;36m_get_listlike_indexer\u001b[0;34m(self, key, axis, raise_missing)\u001b[0m\n\u001b[1;32m   1550\u001b[0m             \u001b[0mkeyarr\u001b[0m\u001b[0;34m,\u001b[0m \u001b[0mindexer\u001b[0m\u001b[0;34m,\u001b[0m \u001b[0mnew_indexer\u001b[0m \u001b[0;34m=\u001b[0m \u001b[0max\u001b[0m\u001b[0;34m.\u001b[0m\u001b[0m_reindex_non_unique\u001b[0m\u001b[0;34m(\u001b[0m\u001b[0mkeyarr\u001b[0m\u001b[0;34m)\u001b[0m\u001b[0;34m\u001b[0m\u001b[0;34m\u001b[0m\u001b[0m\n\u001b[1;32m   1551\u001b[0m \u001b[0;34m\u001b[0m\u001b[0m\n\u001b[0;32m-> 1552\u001b[0;31m         self._validate_read_indexer(\n\u001b[0m\u001b[1;32m   1553\u001b[0m             \u001b[0mkeyarr\u001b[0m\u001b[0;34m,\u001b[0m \u001b[0mindexer\u001b[0m\u001b[0;34m,\u001b[0m \u001b[0mo\u001b[0m\u001b[0;34m.\u001b[0m\u001b[0m_get_axis_number\u001b[0m\u001b[0;34m(\u001b[0m\u001b[0maxis\u001b[0m\u001b[0;34m)\u001b[0m\u001b[0;34m,\u001b[0m \u001b[0mraise_missing\u001b[0m\u001b[0;34m=\u001b[0m\u001b[0mraise_missing\u001b[0m\u001b[0;34m\u001b[0m\u001b[0;34m\u001b[0m\u001b[0m\n\u001b[1;32m   1554\u001b[0m         )\n",
      "\u001b[0;32m/opt/anaconda3/lib/python3.8/site-packages/pandas/core/indexing.py\u001b[0m in \u001b[0;36m_validate_read_indexer\u001b[0;34m(self, key, indexer, axis, raise_missing)\u001b[0m\n\u001b[1;32m   1652\u001b[0m             \u001b[0;31m# just raising\u001b[0m\u001b[0;34m\u001b[0m\u001b[0;34m\u001b[0m\u001b[0;34m\u001b[0m\u001b[0m\n\u001b[1;32m   1653\u001b[0m             \u001b[0;32mif\u001b[0m \u001b[0;32mnot\u001b[0m \u001b[0;34m(\u001b[0m\u001b[0max\u001b[0m\u001b[0;34m.\u001b[0m\u001b[0mis_categorical\u001b[0m\u001b[0;34m(\u001b[0m\u001b[0;34m)\u001b[0m \u001b[0;32mor\u001b[0m \u001b[0max\u001b[0m\u001b[0;34m.\u001b[0m\u001b[0mis_interval\u001b[0m\u001b[0;34m(\u001b[0m\u001b[0;34m)\u001b[0m\u001b[0;34m)\u001b[0m\u001b[0;34m:\u001b[0m\u001b[0;34m\u001b[0m\u001b[0;34m\u001b[0m\u001b[0m\n\u001b[0;32m-> 1654\u001b[0;31m                 raise KeyError(\n\u001b[0m\u001b[1;32m   1655\u001b[0m                     \u001b[0;34m\"Passing list-likes to .loc or [] with any missing labels \"\u001b[0m\u001b[0;34m\u001b[0m\u001b[0;34m\u001b[0m\u001b[0m\n\u001b[1;32m   1656\u001b[0m                     \u001b[0;34m\"is no longer supported, see \"\u001b[0m\u001b[0;34m\u001b[0m\u001b[0;34m\u001b[0m\u001b[0m\n",
      "\u001b[0;31mKeyError\u001b[0m: 'Passing list-likes to .loc or [] with any missing labels is no longer supported, see https://pandas.pydata.org/pandas-docs/stable/user_guide/indexing.html#deprecate-loc-reindex-listlike'"
     ]
    }
   ],
   "source": [
    "def iqr(data, times):\n",
    "    q1, q3 = np.nanpercentile(data, [25, 75])\n",
    "    iqr = q3 - q1\n",
    "    upper_bound = q3 + (times * iqr)\n",
    "    lower_bound = q1 - (times * iqr)\n",
    "    return np.where((data > upper_bound) | (data < lower_bound))\n",
    "out_index_iqr = iqr(df[\"total_price\"], 1.5)\n",
    "print(df[\"total_price\"].loc[out_index_iqr[0]])"
   ]
  },
  {
   "cell_type": "code",
   "execution_count": 100,
   "metadata": {},
   "outputs": [
    {
     "data": {
      "image/png": "[encoded data removed]",
      "text/plain": [
       "<Figure size 432x288 with 1 Axes>"
      ]
     },
     "metadata": {
      "needs_background": "light"
     },
     "output_type": "display_data"
    }
   ],
   "source": [
    "plt.boxplot(df['unit_price'][~np.isnan(df['unit_price'])], whis = 2)  # ~ 是反運算的意思。也就是說，在這段語法要取出的Age這個欄位不是nan的值。\n",
    "plt.title('Box Plot')\n",
    "plt.show()"
   ]
  },
  {
   "cell_type": "markdown",
   "metadata": {
    "id": "uRcOUtYPAtpk"
   },
   "source": [
    "# 4. 找出台北市時價登入總價高度相關的變數"
   ]
  },
  {
   "cell_type": "markdown",
   "metadata": {
    "id": "sMgZ6PbwAtpk"
   },
   "source": [
    "阿宏我是台北人他想找出影響台北市總價、單價元坪的因子<br>\n",
    "相關係數0.3以下為低相關，0.3\\~0.7為中等相關，0.7以上為高度相關<br>\n",
    "1. 資料切片切出city欄位為台北市的資料，並找出時價登入總價(total_price)高度相關的變數\n",
    "2. 資料切片切出city欄位為台北市的資料，找出單價元坪(unit_price_square_feet)高度相關的變數"
   ]
  },
  {
   "cell_type": "code",
   "execution_count": 101,
   "metadata": {},
   "outputs": [
    {
     "data": {
      "text/html": [
       "<div>\n",
       "<style scoped>\n",
       "    .dataframe tbody tr th:only-of-type {\n",
       "        vertical-align: middle;\n",
       "    }\n",
       "\n",
       "    .dataframe tbody tr th {\n",
       "        vertical-align: top;\n",
       "    }\n",
       "\n",
       "    .dataframe thead th {\n",
       "        text-align: right;\n",
       "    }\n",
       "</style>\n",
       "<table border=\"1\" class=\"dataframe\">\n",
       "  <thead>\n",
       "    <tr style=\"text-align: right;\">\n",
       "      <th></th>\n",
       "      <th>index</th>\n",
       "      <th>city</th>\n",
       "      <th>towns</th>\n",
       "      <th>transaction_sign</th>\n",
       "      <th>house_number</th>\n",
       "      <th>land_area_square_meter</th>\n",
       "      <th>use_zoning</th>\n",
       "      <th>land_use_district</th>\n",
       "      <th>land_use</th>\n",
       "      <th>tx_dt_year</th>\n",
       "      <th>...</th>\n",
       "      <th>note</th>\n",
       "      <th>serial_number</th>\n",
       "      <th>main_building_area</th>\n",
       "      <th>auxiliary_building_area</th>\n",
       "      <th>balcony_area</th>\n",
       "      <th>elevator</th>\n",
       "      <th>building_area_square_feet</th>\n",
       "      <th>main_building_area_square_feet</th>\n",
       "      <th>unit_price_square_feet</th>\n",
       "      <th>towns_label</th>\n",
       "    </tr>\n",
       "  </thead>\n",
       "  <tbody>\n",
       "    <tr>\n",
       "      <th>0</th>\n",
       "      <td>1</td>\n",
       "      <td>Taipei</td>\n",
       "      <td>文山區</td>\n",
       "      <td>房地(土地+建物)+車位</td>\n",
       "      <td>臺北市文山區忠順街二段85巷1~30號</td>\n",
       "      <td>26.97</td>\n",
       "      <td>住</td>\n",
       "      <td>NaN</td>\n",
       "      <td>NaN</td>\n",
       "      <td>109</td>\n",
       "      <td>...</td>\n",
       "      <td>含增建或未登記建物。;內含獨立產權車位，未包含在棟數內。</td>\n",
       "      <td>RPVOMLMKNHPFFAA18CA</td>\n",
       "      <td>110.91</td>\n",
       "      <td>9.63</td>\n",
       "      <td>11.09</td>\n",
       "      <td>NaN</td>\n",
       "      <td>69.547775</td>\n",
       "      <td>33.550275</td>\n",
       "      <td>517629.752066</td>\n",
       "      <td>39</td>\n",
       "    </tr>\n",
       "    <tr>\n",
       "      <th>1</th>\n",
       "      <td>2</td>\n",
       "      <td>Taipei</td>\n",
       "      <td>文山區</td>\n",
       "      <td>房地(土地+建物)</td>\n",
       "      <td>臺北市文山區福興路91~120號</td>\n",
       "      <td>10.32</td>\n",
       "      <td>住</td>\n",
       "      <td>NaN</td>\n",
       "      <td>NaN</td>\n",
       "      <td>109</td>\n",
       "      <td>...</td>\n",
       "      <td>含增建或未登記建物。;</td>\n",
       "      <td>RPPPMLMKNHPFFAA67CA</td>\n",
       "      <td>24.58</td>\n",
       "      <td>1.28</td>\n",
       "      <td>2.30</td>\n",
       "      <td>NaN</td>\n",
       "      <td>11.286275</td>\n",
       "      <td>7.435450</td>\n",
       "      <td>494406.611570</td>\n",
       "      <td>39</td>\n",
       "    </tr>\n",
       "    <tr>\n",
       "      <th>2</th>\n",
       "      <td>5</td>\n",
       "      <td>Taipei</td>\n",
       "      <td>文山區</td>\n",
       "      <td>房地(土地+建物)</td>\n",
       "      <td>臺北市文山區樟新街56巷1~30號</td>\n",
       "      <td>44.57</td>\n",
       "      <td>住</td>\n",
       "      <td>NaN</td>\n",
       "      <td>NaN</td>\n",
       "      <td>109</td>\n",
       "      <td>...</td>\n",
       "      <td>含增建或未登記建物。;</td>\n",
       "      <td>RPWNMLNKNHPFFAA28CA</td>\n",
       "      <td>98.74</td>\n",
       "      <td>2.26</td>\n",
       "      <td>11.84</td>\n",
       "      <td>NaN</td>\n",
       "      <td>37.407150</td>\n",
       "      <td>29.868850</td>\n",
       "      <td>488677.685950</td>\n",
       "      <td>39</td>\n",
       "    </tr>\n",
       "    <tr>\n",
       "      <th>3</th>\n",
       "      <td>7</td>\n",
       "      <td>Taipei</td>\n",
       "      <td>文山區</td>\n",
       "      <td>房地(土地+建物)</td>\n",
       "      <td>臺北市文山區木柵路四段159巷170弄1~30號</td>\n",
       "      <td>30.65</td>\n",
       "      <td>住</td>\n",
       "      <td>NaN</td>\n",
       "      <td>NaN</td>\n",
       "      <td>109</td>\n",
       "      <td>...</td>\n",
       "      <td>親友、員工或其他特殊關係間之交易。;</td>\n",
       "      <td>RPQNMLQLNHPFFAA08CA</td>\n",
       "      <td>90.78</td>\n",
       "      <td>11.51</td>\n",
       "      <td>12.93</td>\n",
       "      <td>NaN</td>\n",
       "      <td>37.585625</td>\n",
       "      <td>27.460950</td>\n",
       "      <td>212846.280992</td>\n",
       "      <td>39</td>\n",
       "    </tr>\n",
       "    <tr>\n",
       "      <th>4</th>\n",
       "      <td>8</td>\n",
       "      <td>Taipei</td>\n",
       "      <td>文山區</td>\n",
       "      <td>房地(土地+建物)</td>\n",
       "      <td>臺北市文山區興隆路三段112巷4弄1~30號</td>\n",
       "      <td>9.84</td>\n",
       "      <td>住</td>\n",
       "      <td>NaN</td>\n",
       "      <td>NaN</td>\n",
       "      <td>109</td>\n",
       "      <td>...</td>\n",
       "      <td>親友、員工或其他特殊關係間之交易。;</td>\n",
       "      <td>RPSPMLTJOHPFFAA68CA</td>\n",
       "      <td>26.15</td>\n",
       "      <td>0.00</td>\n",
       "      <td>4.01</td>\n",
       "      <td>NaN</td>\n",
       "      <td>9.123400</td>\n",
       "      <td>7.910375</td>\n",
       "      <td>241137.190083</td>\n",
       "      <td>39</td>\n",
       "    </tr>\n",
       "    <tr>\n",
       "      <th>...</th>\n",
       "      <td>...</td>\n",
       "      <td>...</td>\n",
       "      <td>...</td>\n",
       "      <td>...</td>\n",
       "      <td>...</td>\n",
       "      <td>...</td>\n",
       "      <td>...</td>\n",
       "      <td>...</td>\n",
       "      <td>...</td>\n",
       "      <td>...</td>\n",
       "      <td>...</td>\n",
       "      <td>...</td>\n",
       "      <td>...</td>\n",
       "      <td>...</td>\n",
       "      <td>...</td>\n",
       "      <td>...</td>\n",
       "      <td>...</td>\n",
       "      <td>...</td>\n",
       "      <td>...</td>\n",
       "      <td>...</td>\n",
       "      <td>...</td>\n",
       "    </tr>\n",
       "    <tr>\n",
       "      <th>6889</th>\n",
       "      <td>10589</td>\n",
       "      <td>Kaohsiung</td>\n",
       "      <td>路竹區</td>\n",
       "      <td>房地(土地+建物)</td>\n",
       "      <td>大社路126巷151~180號</td>\n",
       "      <td>61.22</td>\n",
       "      <td>住</td>\n",
       "      <td>NaN</td>\n",
       "      <td>NaN</td>\n",
       "      <td>109</td>\n",
       "      <td>...</td>\n",
       "      <td>NaN</td>\n",
       "      <td>RPTNMLRJQHPFFJE47EA</td>\n",
       "      <td>80.42</td>\n",
       "      <td>0.00</td>\n",
       "      <td>0.00</td>\n",
       "      <td>無</td>\n",
       "      <td>24.327050</td>\n",
       "      <td>24.327050</td>\n",
       "      <td>147983.471074</td>\n",
       "      <td>79</td>\n",
       "    </tr>\n",
       "    <tr>\n",
       "      <th>6890</th>\n",
       "      <td>11925</td>\n",
       "      <td>Kaohsiung</td>\n",
       "      <td>路竹區</td>\n",
       "      <td>房地(土地+建物)+車位</td>\n",
       "      <td>國昌路151~180號</td>\n",
       "      <td>23.41</td>\n",
       "      <td>住</td>\n",
       "      <td>NaN</td>\n",
       "      <td>NaN</td>\n",
       "      <td>109</td>\n",
       "      <td>...</td>\n",
       "      <td>NaN</td>\n",
       "      <td>RPUNMLRKQHPFFJE57DA</td>\n",
       "      <td>86.24</td>\n",
       "      <td>14.25</td>\n",
       "      <td>0.00</td>\n",
       "      <td>有</td>\n",
       "      <td>42.383275</td>\n",
       "      <td>26.087600</td>\n",
       "      <td>125047.933884</td>\n",
       "      <td>79</td>\n",
       "    </tr>\n",
       "    <tr>\n",
       "      <th>6891</th>\n",
       "      <td>12019</td>\n",
       "      <td>Kaohsiung</td>\n",
       "      <td>路竹區</td>\n",
       "      <td>房地(土地+建物)</td>\n",
       "      <td>中山路712巷31~60號</td>\n",
       "      <td>26.74</td>\n",
       "      <td>住</td>\n",
       "      <td>NaN</td>\n",
       "      <td>NaN</td>\n",
       "      <td>109</td>\n",
       "      <td>...</td>\n",
       "      <td>NaN</td>\n",
       "      <td>RPQNMLTKQHPFFJE37DA</td>\n",
       "      <td>101.76</td>\n",
       "      <td>7.62</td>\n",
       "      <td>0.00</td>\n",
       "      <td>有</td>\n",
       "      <td>43.789900</td>\n",
       "      <td>30.782400</td>\n",
       "      <td>115322.314050</td>\n",
       "      <td>79</td>\n",
       "    </tr>\n",
       "    <tr>\n",
       "      <th>6892</th>\n",
       "      <td>12236</td>\n",
       "      <td>Kaohsiung</td>\n",
       "      <td>茄萣區</td>\n",
       "      <td>房地(土地+建物)</td>\n",
       "      <td>建中街61~90號</td>\n",
       "      <td>19.33</td>\n",
       "      <td>住</td>\n",
       "      <td>NaN</td>\n",
       "      <td>NaN</td>\n",
       "      <td>109</td>\n",
       "      <td>...</td>\n",
       "      <td>NaN</td>\n",
       "      <td>RPSNMLOLQHPFFJE27EA</td>\n",
       "      <td>144.40</td>\n",
       "      <td>19.94</td>\n",
       "      <td>0.00</td>\n",
       "      <td>有</td>\n",
       "      <td>63.760950</td>\n",
       "      <td>43.681000</td>\n",
       "      <td>42657.851240</td>\n",
       "      <td>71</td>\n",
       "    </tr>\n",
       "    <tr>\n",
       "      <th>6893</th>\n",
       "      <td>12284</td>\n",
       "      <td>Kaohsiung</td>\n",
       "      <td>路竹區</td>\n",
       "      <td>房地(土地+建物)</td>\n",
       "      <td>建國路196巷46弄1~30號</td>\n",
       "      <td>110.3</td>\n",
       "      <td>住</td>\n",
       "      <td>NaN</td>\n",
       "      <td>NaN</td>\n",
       "      <td>109</td>\n",
       "      <td>...</td>\n",
       "      <td>含土地增值稅或其他稅費167119元;地政士服務費;親友、員工、共有人或其他特殊關係間之交易;</td>\n",
       "      <td>RPVNMLLLQHPFFJE17DA</td>\n",
       "      <td>94.48</td>\n",
       "      <td>0.00</td>\n",
       "      <td>0.00</td>\n",
       "      <td>無</td>\n",
       "      <td>28.580200</td>\n",
       "      <td>28.580200</td>\n",
       "      <td>173196.694215</td>\n",
       "      <td>79</td>\n",
       "    </tr>\n",
       "  </tbody>\n",
       "</table>\n",
       "<p>6779 rows × 40 columns</p>\n",
       "</div>"
      ],
      "text/plain": [
       "      index       city towns transaction_sign              house_number  \\\n",
       "0         1     Taipei   文山區     房地(土地+建物)+車位       臺北市文山區忠順街二段85巷1~30號   \n",
       "1         2     Taipei   文山區        房地(土地+建物)          臺北市文山區福興路91~120號   \n",
       "2         5     Taipei   文山區        房地(土地+建物)         臺北市文山區樟新街56巷1~30號   \n",
       "3         7     Taipei   文山區        房地(土地+建物)  臺北市文山區木柵路四段159巷170弄1~30號   \n",
       "4         8     Taipei   文山區        房地(土地+建物)    臺北市文山區興隆路三段112巷4弄1~30號   \n",
       "...     ...        ...   ...              ...                       ...   \n",
       "6889  10589  Kaohsiung   路竹區        房地(土地+建物)           大社路126巷151~180號   \n",
       "6890  11925  Kaohsiung   路竹區     房地(土地+建物)+車位               國昌路151~180號   \n",
       "6891  12019  Kaohsiung   路竹區        房地(土地+建物)             中山路712巷31~60號   \n",
       "6892  12236  Kaohsiung   茄萣區        房地(土地+建物)                 建中街61~90號   \n",
       "6893  12284  Kaohsiung   路竹區        房地(土地+建物)           建國路196巷46弄1~30號   \n",
       "\n",
       "     land_area_square_meter use_zoning land_use_district land_use tx_dt_year  \\\n",
       "0                     26.97          住               NaN      NaN        109   \n",
       "1                     10.32          住               NaN      NaN        109   \n",
       "2                     44.57          住               NaN      NaN        109   \n",
       "3                     30.65          住               NaN      NaN        109   \n",
       "4                      9.84          住               NaN      NaN        109   \n",
       "...                     ...        ...               ...      ...        ...   \n",
       "6889                  61.22          住               NaN      NaN        109   \n",
       "6890                  23.41          住               NaN      NaN        109   \n",
       "6891                  26.74          住               NaN      NaN        109   \n",
       "6892                  19.33          住               NaN      NaN        109   \n",
       "6893                  110.3          住               NaN      NaN        109   \n",
       "\n",
       "      ...                                             note  \\\n",
       "0     ...                     含增建或未登記建物。;內含獨立產權車位，未包含在棟數內。   \n",
       "1     ...                                      含增建或未登記建物。;   \n",
       "2     ...                                      含增建或未登記建物。;   \n",
       "3     ...                               親友、員工或其他特殊關係間之交易。;   \n",
       "4     ...                               親友、員工或其他特殊關係間之交易。;   \n",
       "...   ...                                              ...   \n",
       "6889  ...                                              NaN   \n",
       "6890  ...                                              NaN   \n",
       "6891  ...                                              NaN   \n",
       "6892  ...                                              NaN   \n",
       "6893  ...  含土地增值稅或其他稅費167119元;地政士服務費;親友、員工、共有人或其他特殊關係間之交易;   \n",
       "\n",
       "            serial_number main_building_area auxiliary_building_area  \\\n",
       "0     RPVOMLMKNHPFFAA18CA             110.91                    9.63   \n",
       "1     RPPPMLMKNHPFFAA67CA              24.58                    1.28   \n",
       "2     RPWNMLNKNHPFFAA28CA              98.74                    2.26   \n",
       "3     RPQNMLQLNHPFFAA08CA              90.78                   11.51   \n",
       "4     RPSPMLTJOHPFFAA68CA              26.15                    0.00   \n",
       "...                   ...                ...                     ...   \n",
       "6889  RPTNMLRJQHPFFJE47EA              80.42                    0.00   \n",
       "6890  RPUNMLRKQHPFFJE57DA              86.24                   14.25   \n",
       "6891  RPQNMLTKQHPFFJE37DA             101.76                    7.62   \n",
       "6892  RPSNMLOLQHPFFJE27EA             144.40                   19.94   \n",
       "6893  RPVNMLLLQHPFFJE17DA              94.48                    0.00   \n",
       "\n",
       "     balcony_area elevator building_area_square_feet  \\\n",
       "0           11.09      NaN                 69.547775   \n",
       "1            2.30      NaN                 11.286275   \n",
       "2           11.84      NaN                 37.407150   \n",
       "3           12.93      NaN                 37.585625   \n",
       "4            4.01      NaN                  9.123400   \n",
       "...           ...      ...                       ...   \n",
       "6889         0.00        無                 24.327050   \n",
       "6890         0.00        有                 42.383275   \n",
       "6891         0.00        有                 43.789900   \n",
       "6892         0.00        有                 63.760950   \n",
       "6893         0.00        無                 28.580200   \n",
       "\n",
       "     main_building_area_square_feet unit_price_square_feet  towns_label  \n",
       "0                         33.550275          517629.752066           39  \n",
       "1                          7.435450          494406.611570           39  \n",
       "2                         29.868850          488677.685950           39  \n",
       "3                         27.460950          212846.280992           39  \n",
       "4                          7.910375          241137.190083           39  \n",
       "...                             ...                    ...          ...  \n",
       "6889                      24.327050          147983.471074           79  \n",
       "6890                      26.087600          125047.933884           79  \n",
       "6891                      30.782400          115322.314050           79  \n",
       "6892                      43.681000           42657.851240           71  \n",
       "6893                      28.580200          173196.694215           79  \n",
       "\n",
       "[6779 rows x 40 columns]"
      ]
     },
     "execution_count": 101,
     "metadata": {},
     "output_type": "execute_result"
    }
   ],
   "source": [
    "df"
   ]
  },
  {
   "cell_type": "code",
   "execution_count": 102,
   "metadata": {
    "id": "UZyUNLQzAtpm"
   },
   "outputs": [
    {
     "data": {
      "image/png": "[encoded data removed]",
      "text/plain": [
       "<Figure size 1152x432 with 2 Axes>"
      ]
     },
     "metadata": {
      "needs_background": "light"
     },
     "output_type": "display_data"
    },
    {
     "data": {
      "image/png": "[encoded data removed]",
      "text/plain": [
       "<Figure size 1152x432 with 2 Axes>"
      ]
     },
     "metadata": {
      "needs_background": "light"
     },
     "output_type": "display_data"
    }
   ],
   "source": [
    "# 阿宏我是台北人他想找出影響台北市總價、單價元坪的因子\n",
    "corr_df = df.drop([\"index\"], axis = 1)\n",
    "plt.figure(figsize = (16, 6))\n",
    "heatmap = sns.heatmap(corr_df.corr(), vmin = -1, vmax = 1, annot = True)\n",
    "# 1. 資料切片切出city欄位為台北市的資料，並找出時價登入總價(total_price)高度相關的變數\n",
    "corr_df_taipei = corr_df[corr_df[\"city\"] == \"台北市\"]\n",
    "plt.figure(figsize = (16, 6))\n",
    "heatmap = sns.heatmap(corr_df_taipei.corr(), vmin = -1, vmax = 1, annot = True)\n",
    "# Answer : building_area_square_meter, main_building, building_area_square_feet, main_building_area_square_feet\n",
    "# 2. 資料切片切出city欄位為台北市的資料，找出單價元坪(unit_price_square_feet)高度相關的變數\n",
    "# Answer : square_feet"
   ]
  },
  {
   "cell_type": "markdown",
   "metadata": {
    "id": "-y15EpRMAtpm"
   },
   "source": [
    "# 5. 資料視覺化並解釋\n"
   ]
  },
  {
   "cell_type": "markdown",
   "metadata": {
    "id": "TuAbtSFfAtpn"
   },
   "source": [
    "我想要以視覺化的方式來看房價資料，並且請各位資料科學家解釋圖表給阿宏我知道\n",
    "1. 以城市(city)為x軸，以單價元坪(unit_price_square_feet)為y軸畫出boxplot，並找出單價元坪(unit_price_square_feet)中位數最高的地區\n",
    "2. 進一步對台北市的資料做圖，以建物現況格局-房(room_number)為x軸，以總價元(total_price)為y軸畫出boxplot，並找出總價元(total_price)中位數最高的房間數。hint:資料切片找出city欄位為台北市的資料，再進一步畫圖\n",
    "3. 對台北市的資料做圖，先將地區(twons)做編碼在進行，再以地區(twon)為x軸，以單價元坪(unit_price_square_feet)為y軸畫出boxplot，並找出單價元坪(unit_price_square_feet)中位數最高的地區。hint:運用LabelEncoder()對地區(twons)做編碼，運用.inverse_transform()反查編碼的地區"
   ]
  },
  {
   "cell_type": "code",
   "execution_count": 103,
   "metadata": {},
   "outputs": [],
   "source": [
    "dic_city = {\"台北市\" : \"Taipei\", \"新北市\" : \"New Taipei City\", \"台中市\" : \"Taichung\", \"高雄市\" : \"Kaohsiung\"}\n",
    "df = df.replace({\"city\" : dic_city})"
   ]
  },
  {
   "cell_type": "code",
   "execution_count": 104,
   "metadata": {
    "id": "AeGKqgwIAtpn",
    "scrolled": false
   },
   "outputs": [
    {
     "data": {
      "text/plain": [
       "<matplotlib.axes._subplots.AxesSubplot at 0x7fc15b86b370>"
      ]
     },
     "execution_count": 104,
     "metadata": {},
     "output_type": "execute_result"
    },
    {
     "data": {
      "image/png": "[encoded data removed]",
      "text/plain": [
       "<Figure size 576x360 with 1 Axes>"
      ]
     },
     "metadata": {
      "needs_background": "light"
     },
     "output_type": "display_data"
    }
   ],
   "source": [
    "#1. 以城市(city)為x軸，以單價元坪(unit_price_square_feet)為y軸畫出boxplot，並找出單價元坪(unit_price_square_feet)中位數最高的地區\n",
    "fig = plt.figure(figsize = (8, 5))\n",
    "sns.boxplot(x = 'city', y = 'unit_price_square_feet', data = df)\n"
   ]
  },
  {
   "cell_type": "markdown",
   "metadata": {},
   "source": [
    "### Answer : 單價元坪中位數最高的是台北市"
   ]
  },
  {
   "cell_type": "code",
   "execution_count": 105,
   "metadata": {
    "id": "2_sM72QLAtpn"
   },
   "outputs": [
    {
     "data": {
      "text/plain": [
       "<matplotlib.axes._subplots.AxesSubplot at 0x7fc15cbb3dc0>"
      ]
     },
     "execution_count": 105,
     "metadata": {},
     "output_type": "execute_result"
    },
    {
     "data": {
      "image/png": "[encoded data removed]",
      "text/plain": [
       "<Figure size 576x360 with 1 Axes>"
      ]
     },
     "metadata": {
      "needs_background": "light"
     },
     "output_type": "display_data"
    }
   ],
   "source": [
    "#2. 進一步對台北市的資料做圖，以建物現況格局-房(room_number)為x軸，以總價元(total_price)為y軸畫出boxplot，並找出總價元(total_price)中位數最高的房間數。hint:資料切片找出city欄位為台北市的資料，再進一步畫圖\n",
    "fig = plt.figure(figsize = (8, 5))\n",
    "sns.boxplot(x = \"room_number\", y = \"total_price\", data = df[df[\"city\"] == \"Taipei\"])"
   ]
  },
  {
   "cell_type": "markdown",
   "metadata": {},
   "source": [
    "### 台北，中位數最高的房價是5間房間"
   ]
  },
  {
   "cell_type": "code",
   "execution_count": 106,
   "metadata": {
    "id": "PatbpuqLAtpo"
   },
   "outputs": [
    {
     "data": {
      "text/plain": [
       "<matplotlib.axes._subplots.AxesSubplot at 0x7fc15cd70460>"
      ]
     },
     "execution_count": 106,
     "metadata": {},
     "output_type": "execute_result"
    },
    {
     "data": {
      "image/png": "[encoded data removed]",
      "text/plain": [
       "<Figure size 432x288 with 1 Axes>"
      ]
     },
     "metadata": {
      "needs_background": "light"
     },
     "output_type": "display_data"
    }
   ],
   "source": [
    "#3. 對台北市的資料做圖，先將地區(towns)做編碼在進行，再以地區(town)為x軸，以單價元坪(unit_price_square_feet)為y軸畫出boxplot，並找出單價元坪(unit_price_square_feet)中位數最高的地區。\n",
    "# hint:運用LabelEncoder()對地區(towns)做編碼，運用.inverse_transform()反查編碼的地區\n",
    "from sklearn.preprocessing import LabelEncoder\n",
    "le = LabelEncoder()\n",
    "df['towns_label'] = le.fit_transform(df['towns'])\n",
    "sns.boxplot(x = 'towns_label', y = 'unit_price_square_feet', data = df[df[\"city\"] == \"Taipei\"])"
   ]
  },
  {
   "cell_type": "code",
   "execution_count": 107,
   "metadata": {},
   "outputs": [
    {
     "data": {
      "text/plain": [
       "array(['中山區'], dtype=object)"
      ]
     },
     "execution_count": 107,
     "metadata": {},
     "output_type": "execute_result"
    }
   ],
   "source": [
    "# hint:運用LabelEncoder()對地區(towns)做編碼，運用.inverse_transform()反查編碼的地區\n",
    "le.inverse_transform([6])"
   ]
  },
  {
   "cell_type": "code",
   "execution_count": null,
   "metadata": {},
   "outputs": [],
   "source": []
  }
 ],
 "metadata": {
  "colab": {
   "name": "不動產分析_習題.ipynb",
   "provenance": []
  },
  "kernelspec": {
   "display_name": "Python 3",
   "language": "python",
   "name": "python3"
  },
  "language_info": {
   "codemirror_mode": {
    "name": "ipython",
    "version": 3
   },
   "file_extension": ".py",
   "mimetype": "text/x-python",
   "name": "python",
   "nbconvert_exporter": "python",
   "pygments_lexer": "ipython3",
   "version": "3.8.3"
  }
 },
 "nbformat": 4,
 "nbformat_minor": 1
}
