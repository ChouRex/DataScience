{
 "cells": [
  {
   "cell_type": "code",
   "execution_count": 1,
   "metadata": {},
   "outputs": [],
   "source": [
    "import numpy as np"
   ]
  },
  {
   "cell_type": "markdown",
   "metadata": {},
   "source": [
    "# HW\n",
    "## #1.有多少學生英文成績比數學成績高?\n"
   ]
  },
  {
   "cell_type": "code",
   "execution_count": 2,
   "metadata": {},
   "outputs": [],
   "source": [
    "english_score = np.array([55, 89, 76, 65, 48, 70,])\n",
    "math_score = np.array([60, 85, 60, 68, 55, 60,])\n",
    "chinese_score = np.array([65, 90, 82, 72, 66, 77,])"
   ]
  },
  {
   "cell_type": "code",
   "execution_count": 4,
   "metadata": {},
   "outputs": [
    {
     "name": "stdout",
     "output_type": "stream",
     "text": [
      "[False  True  True False False  True]\n"
     ]
    }
   ],
   "source": [
    "answer1_bool_array = np.greater(english_score, math_score) # dtype = bool\n",
    "print(answer1_bool_array)"
   ]
  },
  {
   "cell_type": "code",
   "execution_count": 5,
   "metadata": {},
   "outputs": [
    {
     "name": "stdout",
     "output_type": "stream",
     "text": [
      "英文成績比數學成績高的人數為 3 人 \n"
     ]
    }
   ],
   "source": [
    "count_answer1 = np.count_nonzero(answer1_bool_array)\n",
    "print(\"英文成績比數學成績高的人數為 {} 人 \".format(count_answer1))"
   ]
  },
  {
   "cell_type": "markdown",
   "metadata": {},
   "source": [
    "## #2.是否全班同學最高分都是國文?"
   ]
  },
  {
   "cell_type": "code",
   "execution_count": 7,
   "metadata": {},
   "outputs": [
    {
     "name": "stdout",
     "output_type": "stream",
     "text": [
      "[ True  True  True  True  True  True]\n"
     ]
    }
   ],
   "source": [
    "answer2_bool_array = np.logical_and(chinese_score > math_score, chinese_score > english_score)\n",
    "print(answer2_bool_array)"
   ]
  },
  {
   "cell_type": "code",
   "execution_count": 8,
   "metadata": {},
   "outputs": [
    {
     "name": "stdout",
     "output_type": "stream",
     "text": [
      "全班同學國文最高的人數為 6 人 \n"
     ]
    }
   ],
   "source": [
    "count_answer2 = np.count_nonzero(answer2_bool_array)\n",
    "print(\"全班同學國文最高的人數為 {} 人 \".format(count_answer2))"
   ]
  },
  {
   "cell_type": "code",
   "execution_count": 9,
   "metadata": {},
   "outputs": [],
   "source": [
    "if (count_answer2 == len(chinese_score)):\n",
    "    answer2 = \"是\"\n",
    "else:\n",
    "    answer2 = \"否\""
   ]
  },
  {
   "cell_type": "code",
   "execution_count": 10,
   "metadata": {},
   "outputs": [
    {
     "name": "stdout",
     "output_type": "stream",
     "text": [
      "第二題的答案為 是 \n"
     ]
    }
   ],
   "source": [
    "print(\"第二題的答案為 {} \".format(answer2))"
   ]
  }
 ],
 "metadata": {
  "kernelspec": {
   "display_name": "Python 3",
   "language": "python",
   "name": "python3"
  },
  "language_info": {
   "codemirror_mode": {
    "name": "ipython",
    "version": 3
   },
   "file_extension": ".py",
   "mimetype": "text/x-python",
   "name": "python",
   "nbconvert_exporter": "python",
   "pygments_lexer": "ipython3",
   "version": "3.8.3"
  }
 },
 "nbformat": 4,
 "nbformat_minor": 4
}
