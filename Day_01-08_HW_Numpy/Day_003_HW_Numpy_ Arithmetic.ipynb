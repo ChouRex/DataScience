{
 "cells": [
  {
   "cell_type": "code",
   "execution_count": 1,
   "metadata": {},
   "outputs": [],
   "source": [
    "import numpy as np"
   ]
  },
  {
   "cell_type": "markdown",
   "metadata": {},
   "source": [
    "# HW\n",
    "## #1.正常的談話的聲壓為20000微巴斯卡，請問多少分貝?"
   ]
  },
  {
   "cell_type": "code",
   "execution_count": 2,
   "metadata": {},
   "outputs": [
    {
     "name": "stdout",
     "output_type": "stream",
     "text": [
      "答案為 60.0 分貝\n"
     ]
    }
   ],
   "source": [
    "v1 = 20000\n",
    "v0 = 20\n",
    "\n",
    "answer1 = 20 * np.log10(v1 / v0)\n",
    "print(\"答案為 {} 分貝\".format(answer1))"
   ]
  },
  {
   "cell_type": "markdown",
   "metadata": {},
   "source": [
    "## #2.   30分貝的聲壓會是50分貝的幾倍?"
   ]
  },
  {
   "cell_type": "code",
   "execution_count": 4,
   "metadata": {},
   "outputs": [
    {
     "name": "stdout",
     "output_type": "stream",
     "text": [
      "30分貝的聲壓會是50分貝的0.09999999999999999倍\n"
     ]
    }
   ],
   "source": [
    "# 計算30分貝聲壓 : 30 = 20 * log10(V3 / 20)\n",
    "# 10 ** 1.5 = V3 / 20\n",
    "\n",
    "V3 = np.power(10, 1.5) * 20\n",
    "\n",
    "# 計算50分貝聲壓力 : 50 = 20 * log10(V5 / 20)\n",
    "# 10 ** 2.5 * 20 = V5\n",
    "\n",
    "V5 = np.power(10, 2.5) * 20\n",
    "\n",
    "print(\"30分貝的聲壓會是50分貝的{}倍\".format(V3 / V5))"
   ]
  }
 ],
 "metadata": {
  "kernelspec": {
   "display_name": "Python 3",
   "language": "python",
   "name": "python3"
  },
  "language_info": {
   "codemirror_mode": {
    "name": "ipython",
    "version": 3
   },
   "file_extension": ".py",
   "mimetype": "text/x-python",
   "name": "python",
   "nbconvert_exporter": "python",
   "pygments_lexer": "ipython3",
   "version": "3.8.3"
  }
 },
 "nbformat": 4,
 "nbformat_minor": 4
}
